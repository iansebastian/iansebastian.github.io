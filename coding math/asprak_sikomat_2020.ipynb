{
 "cells": [
  {
   "cell_type": "markdown",
   "metadata": {
    "colab_type": "text",
    "id": "fPlFP-5ghc_t"
   },
   "source": [
    "# **MA2151 Simulasi dan Komputasi Matematika**\n",
    "## **Seleksi Asisten Praktikum**\n",
    "\n",
    "\n",
    "## Teknis Pengerjaan\n",
    "1. Buat salinan dari *notebook* ini ke Google Drive anda, dan *rename* berkas menjadi `asprak_sikomat_NIM.ipynb`.\n",
    "2. Kumpulkan hasil pekerjaan anda (dalam format .ipynb dan sesuai dengan format dokumen ini) ke LINE Afif (mafifapip) sebelum **Sabtu, 15 Agustus 2020, jam 11:59 WIB**. Harap menuliskan seluruh pekerjaan Anda dalam berkas yang Anda kirimkan.\n",
    "3. Beberapa parameter yang akan digunakan dalam penilaian ini adalah:\n",
    "  * Tingkat kesuksesan.\n",
    "  * Kompleksitas waktu dan/atau kode.\n",
    "  * Keterbacaan (termasuk komentar)\n",
    "  * Argumen matematika\n",
    "  * Kekreatifan (terutama untuk nomor 6)\n",
    "\n",
    "    \n",
    "*Mengingat tim penseleksi bukan cenayang digital, sebaiknya Anda memberikan komentar di program yang Anda buat. Walaupun tidak dipaksakan, menulis mengikuti gaya penulisan Python (misal [PEP 8](https://www.python.org/dev/peps/pep-0008/)) lebih baik.*\n"
   ]
  },
  {
   "cell_type": "markdown",
   "metadata": {
    "colab_type": "text",
    "id": "fCfzTTzSmknZ"
   },
   "source": [
    "### 1. Rekursi Sederhana\n",
    "\n",
    "**Catatan**: Untuk menghayati soal ini, disarankan menyetel lagu berikut: https://www.youtube.com/watch?v=FFYAZ9KxWnI dan https://www.youtube.com/watch?v=fwGuv2vmoVg . Tentunya, tidak ada konsekuensi (nilai plus ataupun minus) yang Anda dapatkan jikalau Anda menyetel, atau tidak menyetel lagu tersebut - saya hanya ingin berbagi rekomendasi saja.\n",
    "\n",
    "Definisikan barisan $a_i$ sebagai berikut: $a_1=a_2=1$ dan $\\dfrac{1}{a_{n+2}}=\\dfrac{1}{a_{n+1}}+\\dfrac{1}{a_n}$ untuk semua $n$ bilangan bulat positif. Lengkapilah fungsi `ratio(i)` yang dapat menentukan, dengan ketepatan 10 digit di belakang koma, nilai $\\dfrac{a_{i+1}}{a_{i}}$, untuk $1\\leq i \\leq 10000$.\n"
   ]
  },
  {
   "cell_type": "code",
   "execution_count": 103,
   "metadata": {
    "colab": {},
    "colab_type": "code",
    "id": "5yYbvI9Ymtr3"
   },
   "outputs": [],
   "source": [
    "## Anda juga dapat menulis kode di sini.\n",
    "\n",
    "\n",
    "def ratio(i):\n",
    "    \"\"\"\n",
    "    Menghitung hasil a_{i+1}/a{i}\n",
    "    Args:\n",
    "        i : int\n",
    "            menyatakan bilangan ke-berapa yang akan ditampilkan\n",
    "    Returns:\n",
    "        float\n",
    "            bilangan ke-i\n",
    "    \"\"\"\n",
    "    def fibo(k):\n",
    "        \"\"\"\n",
    "        Menghitung bil. Fibonacci ke-k.\n",
    "        Persamaan: a_n = a_{n-1} + a_{n-2}\n",
    "        Parameters\n",
    "        ==========\n",
    "            k : int\n",
    "        Returns\n",
    "        =======\n",
    "        int : Bilangan Fibonacci ke-k\n",
    "        \"\"\"\n",
    "        if k <= 2:\n",
    "            return 1\n",
    "        else:\n",
    "            return fibo(k-1) + fibo(k-2)\n",
    "    return fibo(i)/fibo(i+1)"
   ]
  },
  {
   "cell_type": "markdown",
   "source": [
    "### 2. Selamat Datang di Omonib\n",
    "\n",
    "**Catatan**: Untuk menghayati soal ini, disarankan menyetel lagu berikut: https://www.youtube.com/watch?v=b8ztR3KXR0g\n",
    "\n",
    "Halo nama saya Dibu Setiawan, saya seorang treder profesyonal... lupakan saja.\n",
    "\n",
    "Saya sekarang sedang mencoba membuat (para praktikan membuat) animasi pergerakan saham (seperti di iklan omonib yang dulu viral), namun sialnya saya hanya dapat menggunakan Python untuk dapat melakukan hal ini. Bisabantu saya?\n",
    "\n",
    "**Catatan**: Saham yang dimodelkan TIDAK diambil dari data saham di dunia nyata  -  melainkan  dimodelkan  secara  matematis.   Jelaskan  secara  singkat pemodelan yang dipakai dalam jawaban Anda.\n",
    "\n"
   ],
   "metadata": {
    "collapsed": false
   }
  },
  {
   "cell_type": "code",
   "execution_count": 3,
   "metadata": {
    "colab": {},
    "colab_type": "code",
    "id": "dRwdRCVauAFC"
   },
   "outputs": [],
   "source": [
    "## Tulis module yang anda perlukan di sini, jika ada.\n",
    "\n",
    "import numpy as np\n",
    "import matplotlib.pyplot as plt\n",
    "from matplotlib import animation, rc\n",
    "from IPython.display import HTML"
   ]
  },
  {
   "cell_type": "code",
   "execution_count": 12,
   "metadata": {
    "pycharm": {
     "name": "#%%\n"
    }
   },
   "outputs": [],
   "source": [
    "def gen_pure_randwalk(len=260, drift=0, sigma=1):\n",
    "    \"\"\"\n",
    "    Generates a pure random walk for data, with starting point 1, unless specified.\n",
    "\n",
    "    Args\n",
    "    ----\n",
    "    len: int\n",
    "        The length desired for data. Default value 260 (representing 260 days - 5 days a week, 52 weeks a year - annual)\n",
    "    drift: int\n",
    "        Defines the initial value desired for data. Default value 0.\n",
    "    sigma: float\n",
    "        The standard deviation desired for the random walk.\n",
    "\n",
    "    Returns\n",
    "    -------\n",
    "        data:\n",
    "            a NumPy array, containing values for random walk.\n",
    "    \"\"\"\n",
    "    np.random.seed(np.random.randint(101108))\n",
    "    data = np.empty(len)\n",
    "    data[0] = drift\n",
    "    for i in range(1, len):\n",
    "        data[i] = data[i-1] + np.random.randn()*sigma\n",
    "        if data[i] <= 0:\n",
    "            data[i] = data[i-1]\n",
    "    return data"
   ]
  },
  {
   "cell_type": "code",
   "execution_count": 94,
   "outputs": [
    {
     "name": "stdout",
     "output_type": "stream",
     "text": [
      "Animation object created successfully!\n",
      "Use cell below to import as mp4 file.\n"
     ]
    },
    {
     "data": {
      "text/plain": "<Figure size 1080x1080 with 1 Axes>",
      "image/png": "[encoded data removed]"
     },
     "metadata": {},
     "output_type": "display_data"
    }
   ],
   "source": [
    "def init():\n",
    "    _ = l.set_xdata([])\n",
    "    _ = l.set_ydata([])\n",
    "    return l,\n",
    "\n",
    "\n",
    "def update_line(num, data, line):\n",
    "    _ = line.set_xdata(np.arange(num))\n",
    "    _ = line.set_ydata(data[:num])\n",
    "    return line,\n",
    "\n",
    "fig, ax = plt.subplots()\n",
    "\n",
    "data = gen_pure_randwalk(len=1000, drift=5, sigma=0.1)\n",
    "l, = ax.plot([], [], 'b-')\n",
    "\n",
    "_ = ax.set_title(\"A Random Walk Down Wall Street\")\n",
    "_ = ax.set_xlim((0, 1000))\n",
    "_ = ax.set_ylim((0, np.max(data)+10))\n",
    "_ = ax.set_xlabel(\"Days since IPO\")\n",
    "_ = ax.set_ylabel(\"Closing Price\")\n",
    "\n",
    "anim = animation.FuncAnimation(\n",
    "    fig, update_line, 1000, fargs=(data, l), interval=5, blit=True, init_func=init)\n",
    "print(\"Animation object created successfully!\\nUse cell below to import as mp4 file.\\nUse the cell below that to display in Jupyter Notebooks.\")"
   ],
   "metadata": {
    "collapsed": false,
    "pycharm": {
     "name": "#%%%\n"
    }
   }
  },
  {
   "cell_type": "code",
   "execution_count": null,
   "outputs": [],
   "source": [
    "from matplotlib.animation import FFMpegWriter\n",
    "writer = FFMpegWriter(fps=60, metadata=dict(artist='Ian Sebastian'), bitrate=1800)\n",
    "anim.save(\"randwalk.mp4\", writer=writer)\n",
    "print(\"Video import done.\")"
   ],
   "metadata": {
    "collapsed": false,
    "pycharm": {
     "name": "#%%\n"
    }
   }
  },
  {
   "cell_type": "code",
   "execution_count": null,
   "outputs": [],
   "source": [
    "HTML(anim.to_html5_video())"
   ],
   "metadata": {
    "collapsed": false,
    "pycharm": {
     "name": "#%%\n"
    }
   }
  },
  {
   "cell_type": "code",
   "source": [
    "HTML(anim.to_jshtml())"
   ],
   "metadata": {
    "collapsed": false,
    "pycharm": {
     "name": "#%%\n"
    }
   },
   "execution_count": null,
   "outputs": []
  },
  {
   "cell_type": "markdown",
   "source": [
    "### 3. Kenangan di Pinggir Sungai\n",
    "\n",
    "Pandemi memang menyebalkan. Kelas saya libur, kelas adik saya libur.\n",
    "Kami pun membuat permainan baru guna mengisi waktu luang tanpa bertemu teman-teman sepantaran kami.\n",
    "\n",
    "Pertama, saya mengambil $n$ buah batu dari sungai, dan meletakkan mereka di halaman belakang rumah.\n",
    "Saya dan adik saya secara bergiliran mengambil $1,2,3,\\dotsc$ atau $m$ buah batu\n",
    "(dengan saya selalu melangkah pertama kali). Pemain yang menghabiskan batu memenangkan permainan tersebut,\n",
    "dan pemain yang kalah harus mengembalikan bebatuan tersebut ke pinggir sungai.\n",
    "\n",
    "Sebagai contoh, misal $n=10$, $m=4$. Permainan berlangsung sebagai berikut\n",
    "\n",
    "```\n",
    "Banyak batu untuk bermain: 10\n",
    "Maksimum batu yang boleh diambil: 4\n",
    "\n",
    "Saya mengambil 2 batu. Sisa batu: 8\n",
    "Adik mengambil 3 batu. Sisa batu: 5\n",
    "Saya mengambil 1 batu. Sisa batu: 4\n",
    "Adik mengambil 4 batu. Sisa batu: 0\n",
    "\n",
    "Adik menang.\n",
    "```\n",
    "\n",
    "Eh, salah, kok adik saya yang menang. Coba saya ulangi lagi permainannya.\n",
    "```\n",
    "Banyak batu untuk bermain: 10\n",
    "Maksimum batu yang boleh diambil: 4\n",
    "\n",
    "Saya mengambil 4 batu. Sisa batu: 6\n",
    "Adik mengambil 3 batu. Sisa batu: 3\n",
    "Saya mengambil 3 batu. Sisa batu: 0\n",
    "\n",
    "Saya menang.\n",
    "```\n",
    "\n",
    "Suatu hari, adik saya sedang tidak ingin memainkan permainan ini. Mengingat revolusi industri 4.0 membuat makin banyak pekerjaan digantikan AI, saya memutuskan untuk membuat suatu program Python sederhana untuk menggantikan peran adik saya di permainan ini. Tentunya, program ini tidak perlu mengangkat batu ke kali jikalau ia kalah."
   ],
   "metadata": {
    "collapsed": false
   }
  },
  {
   "cell_type": "markdown",
   "metadata": {
    "colab_type": "text",
    "id": "prK4efJWvTiz"
   },
   "source": [
    "1. Lengkapilah fungsi `game()` berikut, yang mensimulasikan permainan di atas. Karena sifat permainan ini interaktif, tokoh \"**saya**\" perlu memasukkan input banyak batu yang ia ambil di setiap giliran. Gunakan contoh permainan di atas sebagai tampilan permainan (boleh tidak persis).\n",
    "\n",
    "  Asumsikan program memilih banyak batu yang diambil dengan peluang uniform. Akan tetapi, jika suatu saat batu yang tersisa di giliran program kurang dari $m$,  program  mengambil  semua  batu  di  gilirannya  (untuk memastikan program menang)."
   ]
  },
  {
   "cell_type": "code",
   "execution_count": 10,
   "metadata": {
    "colab": {},
    "colab_type": "code",
    "id": "ndYHxOnbxK8E"
   },
   "outputs": [],
   "source": [
    "import random\n",
    "\n",
    "def game():\n",
    "    \"Simulasi permainan di pinggir sungai.\"\n",
    "\n",
    "    N = int(input(\"Banyak batu untuk bermain: \"))\n",
    "    M = int(input(\"Maksimum batu yang boleh diambil: \"))\n",
    "    print()\n",
    "\n",
    "    curr_rocks = N\n",
    "    gil_saya = True\n",
    "\n",
    "    while (curr_rocks > 0):\n",
    "        if gil_saya:\n",
    "            amt = ''\n",
    "            while not amt.isdigit():\n",
    "                amt = input(\"Giliran Anda! Jumlah batu yang akan Anda ambil: \")\n",
    "                if not amt.isdigit() or int(amt)>M or int(amt)<1:\n",
    "                    print(\"Input tidak valid! Ulangi atau temui pesan ini terus.\")\n",
    "                    amt = ''\n",
    "            amt = int(amt)\n",
    "        else:\n",
    "            if curr_rocks <= M:\n",
    "                amt = curr_rocks\n",
    "            else:\n",
    "                amt = random.randint(1, M)\n",
    "\n",
    "        curr_rocks -= amt\n",
    "        print(\"{} mengambil {} batu. Sisa batu: {}\".format(\"Saya\" if gil_saya else \"Adik\", amt, curr_rocks))\n",
    "        gil_saya = not gil_saya\n",
    "\n",
    "    print(\"\\n{} menang.\".format(\"Adik\" if gil_saya else \"Saya\"))"
   ]
  },
  {
   "cell_type": "markdown",
   "source": [
    "2. Setelah lama memainkan permainan yang telah saya buat sebelumnya bersama adik saya, saya menemukan hal berikut: kalau $m+1$ habis membagi $n$, adik saya selalu memenangkan permainan ini - tak peduli bagaimanapun saya melangkah.\n",
    "\n",
    "  Dengan memodifikasi program Python yang dibuat sebelumnya, jika $m+1|n$, lengkapi fungsi `game_v2()` yang mengimitasi strategi kemenangan adik saya. Tentunya, di kasus ini program *tidak* memilih secara acak banyak batu yang diambil.\n",
    "  "
   ],
   "metadata": {
    "collapsed": false
   }
  },
  {
   "cell_type": "code",
   "execution_count": 24,
   "metadata": {
    "colab": {},
    "colab_type": "code",
    "id": "oE3d5afGuzuk"
   },
   "outputs": [],
   "source": [
    "def game_v2():\n",
    "    \"\"\"Simulasi permainan di pinggir sungai.\"\"\"\n",
    "\n",
    "    N = int(input(\"Banyak batu untuk bermain: \"))\n",
    "    M = int(input(\"Maksimum batu yang boleh diambil: \"))\n",
    "    print()\n",
    "  \n",
    "    curr_rocks = N\n",
    "    gil_saya = True\n",
    "\n",
    "    while (curr_rocks > 0):\n",
    "        if gil_saya:\n",
    "            amt = ''\n",
    "            while not amt.isdigit():\n",
    "                amt = input(\"Giliran Anda! Jumlah batu yang akan Anda ambil: \")\n",
    "                if not amt.isdigit() or int(amt) > M or int(amt) > curr_rocks:\n",
    "                    print(\"Input tidak valid! Ulangi atau temui pesan ini terus.\")\n",
    "                    amt = ''\n",
    "            amt = int(amt)\n",
    "        else:\n",
    "            if curr_rocks <= M:\n",
    "                amt = curr_rocks\n",
    "            else:\n",
    "                amt = curr_rocks % (M+1)\n",
    "\n",
    "        curr_rocks -= amt\n",
    "        print(\"{} mengambil {} batu. Sisa batu: {}\".format(\"Saya\" if gil_saya else \"Adik\", amt, curr_rocks))\n",
    "        gil_saya = not gil_saya\n",
    "\n",
    "    print(\"\\n{} menang.\".format(\"Adik\" if gil_saya else \"Saya\"))"
   ]
  },
  {
   "cell_type": "markdown",
   "metadata": {
    "colab_type": "text",
    "id": "IyLf0kTpcvPI"
   },
   "source": [
    "3. Apa yang terjadi jika $m+1$ tak habis membagi $n$?"
   ]
  },
  {
   "cell_type": "markdown",
   "metadata": {
    "colab_type": "text",
    "id": "fKB2hRODMsQW"
   },
   "source": [
    "Misal $n$ habis dibagi $m+k$, dimana $0 \\leq k \\leq m-1, \\, k \\neq 1$. Maka pada giliran pertama,\n",
    "saya akan mengambil $p$ buah batu, dimana\n",
    "\n",
    "$n \\equiv p \\, (mod\\;m+1),$\n",
    "\n",
    "Maka, adik akan menjalankan gilirannya dengan jumlah batu tersisa yang habis dibagi $m+1$. Karena kita telah\n",
    "mengetahui bahwa akibat ini, saya punya strategi yang pasti memenangkan saya. (dengan selalu mengambil sejumlah $q$,\n",
    "dimana $q$ adalah sisa pembagian jlh batu sekarang dengan $m+1$. Alhasil, yang terakhir mengambil batu pasti saya.)\n",
    "Maka itu, saya akan selalu menang."
   ]
  },
  {
   "cell_type": "markdown",
   "metadata": {
    "colab_type": "text",
    "id": "4jHUcjKwvBRq"
   },
   "source": [
    "### 4. Labirin yang Hidup\n",
    "\n",
    "**Catatan**: Untuk menghayati soal ini, disarankan menyetel lagu berikut selagi mencoba menyelesaikan masalah yang ada. https://www.youtube.com/watch?v=Lr_nyEruW4g\n",
    "\n",
    "Tiba tiba, anda terbangun. Anda berada di sebuah labirin besar!\n",
    "\n",
    "![Oh tidak!](https://res.cloudinary.com/jerrick/image/upload/fl_progressive,q_auto,w_1024/q6hgjkv5yy4ilmgzpa1p.jpg)\n",
    "\n",
    "\n",
    "Setelah menghabiskan beberapa minggu berkelana dan bertahan hidup, anda menemukan beberapa keanehan dengan tempat ini. *Labirin ini hidup*. Dinding-dindingnya muncul dan hilang, bergerak kesana dan kemari. Terkadang dinding labirin ini hampir membunuh diri anda.\n",
    "\n",
    "Bagaimanapun, ada rasa bersyukur bisa tetap hidup sampai saat ini.\n",
    "\n",
    "Suatu hari, setelah mencari makanan, anda menemukan ruangan kecil di pinggir suatu dinding labirin. Penasaran, anda mencoba masuk... pintunya tidak terkunci. Di pojok ruangan, ada komputer menyala, dengan *wallpaper* bertuliskan \"TES-SKMT\". Entah apa artinya itu. Lalu anda melihat ada file Python berikut. \"Sepertinya ini penting\", lalu anda me-*run* program ini. "
   ]
  },
  {
   "cell_type": "code",
   "execution_count": 13,
   "metadata": {
    "colab": {},
    "colab_type": "code",
    "id": "3outc2EDQFVt"
   },
   "outputs": [],
   "source": [
    "## Kode ini akan mendownload file `maze.txt`\n",
    "## di storage session notebook ini. Legenda:\n",
    "##  0 = Dinding\n",
    "##  1 = Pagar\n",
    "##  2 = Jalan\n",
    "\n",
    "import requests\n",
    "\n",
    "\n",
    "data = requests.get(\"https://raw.githubusercontent.com/\"\n",
    "                    \"kekavigi/materi-tutor/master/TES/maze.txt\").text\n",
    "with open(\"maze.txt\", \"w\") as f: f.write(data)\n",
    "del data"
   ]
  },
  {
   "cell_type": "code",
   "execution_count": 14,
   "outputs": [
    {
     "data": {
      "text/plain": "array([[1, 1, 1, ..., 1, 1, 1],\n       [1, 2, 2, ..., 2, 2, 1],\n       [1, 0, 0, ..., 0, 2, 1],\n       ...,\n       [1, 2, 0, ..., 0, 0, 1],\n       [1, 2, 0, ..., 2, 2, 1],\n       [1, 1, 1, ..., 1, 1, 1]])"
     },
     "execution_count": 14,
     "metadata": {},
     "output_type": "execute_result"
    }
   ],
   "source": [
    "maze = np.loadtxt(\"maze.txt\", dtype=str)\n",
    "maze = np.array([[int(elem) for elem in row] for row in maze])\n",
    "maze"
   ],
   "metadata": {
    "collapsed": false,
    "pycharm": {
     "name": "#%%\n"
    }
   }
  },
  {
   "cell_type": "markdown",
   "metadata": {
    "colab_type": "text",
    "id": "yiST39eqSeUe"
   },
   "source": [
    "1. Ada firasat bahwa file `maze.txt` berisi peta labirin ini. Well, tidak ada salahnya mencoba membuktikan firasat. Bisakah anda membuat visualisasi peta dari file `maze.txt`?\n",
    "\n",
    "Oiya, selagi anda mencoba, tolong warnai:\n",
    "0. Dinding dengan warna hitam\n",
    "1. Pagar dengan warna biru, dan\n",
    "2. Jalan dengan warna putih."
   ]
  },
  {
   "cell_type": "code",
   "execution_count": 22,
   "metadata": {
    "colab": {},
    "colab_type": "code",
    "id": "dcBZlD65S8Oh"
   },
   "outputs": [
    {
     "data": {
      "text/plain": "<Figure size 576x576 with 1 Axes>",
      "image/png": "[encoded data removed]"
     },
     "metadata": {},
     "output_type": "display_data"
    }
   ],
   "source": [
    "from matplotlib.colors import ListedColormap\n",
    "\n",
    "cmap = ListedColormap([\"black\", \"blue\", \"white\"])\n",
    "\n",
    "fig, ax = plt.subplots(figsize=(8,8))\n",
    "_ = ax.pcolormesh(maze, cmap=cmap)\n",
    "\n",
    "_ = plt.gca().invert_yaxis()\n",
    "_ = plt.xticks([])\n",
    "_ = plt.yticks([])\n",
    "_ = ax.set_aspect(1)\n",
    "plt.show()"
   ]
  },
  {
   "cell_type": "markdown",
   "source": [
    "2. \"Hah! Apa arti peta ini?!\" Mata anda melolot melihat pagar di tepi labirin di peta, \"Tidak mungkin, tidak ada jalan keluar dari labirin ini\".\n",
    "\n",
    "  Lebih sial, anda tidak dapat memastikan di mana posisi anda di dalam peta (tapi apa gunanya, toh labirin ini *hidup*). Bagaimana pun juga anda ingin keluar dari labirin ini, itu pasti. Ada ide cemerlang terlintas dipikiran:\n",
    "\n",
    "  > \"*Kalau saya berlari bisa ke pagar labirin, saya bisa mencoba memanjatnya dan keluar!*\"\n",
    "\n",
    "  Tapi, apakah semua jalan di labirin saat ini, pasti menuju ke pagar labirin? Buatlah program yang mewarnai semua jalan yang terhubung ke pagar labirin dengan warna kuning."
   ],
   "metadata": {
    "collapsed": false
   }
  },
  {
   "cell_type": "code",
   "execution_count": 17,
   "outputs": [],
   "source": [
    "maze2 = maze.copy()"
   ],
   "metadata": {
    "collapsed": false,
    "pycharm": {
     "name": "#%%\n"
    }
   }
  },
  {
   "cell_type": "code",
   "execution_count": 20,
   "metadata": {
    "colab": {},
    "colab_type": "code",
    "id": "QWuUo2cdTN3G"
   },
   "outputs": [],
   "source": [
    "import numpy as np\n",
    "# Cara: bruteforce sampai konvergen\n",
    "\n",
    "flag = True\n",
    "while flag:\n",
    "    mazeold = maze2.copy()\n",
    "\n",
    "    for i in range(1, 81):\n",
    "        for j in range(1, 81):\n",
    "            if maze2[i, j] == 2:\n",
    "                if (np.append(maze2[i-1:i+2, j], maze2[i, j-1:j+2]) == 1).any() or \\\n",
    "                        (np.append(maze2[i-1:i+2, j], maze2[i, j-1:j+2]) == 3).any():\n",
    "                    maze2[i, j] = 3\n",
    "\n",
    "    flag = (mazeold != maze2).any()\n",
    "    del mazeold"
   ]
  },
  {
   "cell_type": "code",
   "execution_count": 21,
   "outputs": [
    {
     "data": {
      "text/plain": "<Figure size 576x576 with 1 Axes>",
      "image/png": "[encoded data removed]"
     },
     "metadata": {},
     "output_type": "display_data"
    }
   ],
   "source": [
    "cmap = ListedColormap([\"black\", \"blue\", \"white\", \"yellow\"])\n",
    "\n",
    "fig, ax = plt.subplots(figsize=(8,8))\n",
    "_ = ax.pcolormesh(maze2, cmap=cmap)\n",
    "\n",
    "_ = plt.gca().invert_yaxis()\n",
    "_ = plt.xticks([])\n",
    "_ = plt.yticks([])\n",
    "_ = ax.set_aspect(1)\n",
    "plt.show()"
   ],
   "metadata": {
    "collapsed": false,
    "pycharm": {
     "name": "#%%\n"
    }
   }
  },
  {
   "cell_type": "markdown",
   "metadata": {
    "colab_type": "text",
    "id": "YG4-otbKWZ9-"
   },
   "source": [
    "### 5. Selamat Datang di Taman Sikomat\n",
    "\n",
    "**Catatan**: Untuk menghayati soal ini, disarankan menyetel lagu berikut: https://www.youtube.com/watch?v=Zk9iH-nunro\n",
    "\n",
    "Banyak hal yang bisa Anda lakukan selagi menunggu kembalinya Anda ke bangku perkuliahan (daring). Salah satu contoh paling efektif adalah tidur sembari membayangkan Anda memecahkan permasalahan TA Anda. Tentunya hal ini memiliki efek samping selepas Anda bangun.\n",
    "\n",
    "Suatu siang (setelah melewatkan kelas jam 7 pagi karena Anda bangun jam 9), Anda mengkaji ulang materi Sikomat demi melancarkan Anda di tes seleksi calon asisten. Anda membaca materi dinamika populasi, dan mengingat kembali persamaan Lotka-Volterra untuk memodelkan dua hewan - sebutlah Pemangsa dan Dimangsa.\n",
    "\n",
    "Anda membaca dalam hati, lalu menemukan beberapa asumsi yang \"tidak realistis\" dari persamaan tersebut. Sebagai seorang ca-matematikawan (atau aktuaris, atau data analis, atau semacamnya), Anda penasaran hal yang akan terjadi jika asumsi tersebut dihilangkan.\n",
    "\n",
    "Untuk soal di bawah, gunakan data berikut:\n",
    "- Populasi pemangsa awal adalah 20, dengan konstanta laju kelahiran dan kematian (dalam model Lotka-Volterra biasa) adalah 0.02 dan 1.02.\n",
    "- Populasi dimangsa awal adalah 200, dengan konstanta laju kelahiran dan kematian (dalam model Lotka-Volterra biasa) adalah 2.04 dan 0.04.\n",
    "\n",
    "0. Buatlah program Python yang memodelkan (dengan memakai persamaan beda) simulasi persamaan Lotka-Volterra terhadap data di atas. Simulasikan pula grafik populasi Pemangsa dan Dimangsa dalam *scatter-plot* dan *deret waktu* \n"
   ]
  },
  {
   "cell_type": "code",
   "execution_count": 239,
   "metadata": {
    "colab": {},
    "colab_type": "code",
    "id": "6aHM0yIcviNj"
   },
   "outputs": [
    {
     "name": "stderr",
     "output_type": "stream",
     "text": [
      "<ipython-input-239-0899147f733b>:8: RuntimeWarning: overflow encountered in double_scalars\n",
      "  y[i] = y[i-1] + delta*x[i-1]*y[i-1] - gamma*y[i-1]\n",
      "<ipython-input-239-0899147f733b>:8: RuntimeWarning: invalid value encountered in double_scalars\n",
      "  y[i] = y[i-1] + delta*x[i-1]*y[i-1] - gamma*y[i-1]\n"
     ]
    },
    {
     "data": {
      "text/plain": "[<matplotlib.lines.Line2D at 0x13ca5e6a7c0>]"
     },
     "execution_count": 239,
     "metadata": {},
     "output_type": "execute_result"
    },
    {
     "data": {
      "text/plain": "<Figure size 432x288 with 1 Axes>",
      "image/png": "[encoded data removed]"
     },
     "metadata": {
      "needs_background": "light"
     },
     "output_type": "display_data"
    }
   ],
   "source": [
    "def lotka_vol(x0=200, y0=20, alpha=2.04, beta=0.04, gamma=1.02, delta=0.02, reps=200):\n",
    "    x = np.empty(reps)\n",
    "    y = np.empty(reps)\n",
    "    x[0] = x0\n",
    "    y[0] = y0\n",
    "    for i in range(1, reps):\n",
    "        x[i] = x[i-1] + (alpha*x[i-1] - beta*x[i-1]*y[i-1])\n",
    "        y[i] = y[i-1] + (delta*x[i-1]*y[i-1] - gamma*y[i-1])\n",
    "    return x, y\n",
    "\n",
    "\n",
    "prey, predator = lotka_vol()"
   ]
  },
  {
   "cell_type": "markdown",
   "metadata": {
    "colab_type": "text",
    "id": "jRfDGIYCv_Ix"
   },
   "source": [
    "1. \"Asumsikan fungsi pertumbuhan hewan tanpa predasi mengikuti fungsi eksponensial.\" Sebentar... setelah memikirkan ulang, hal ini jelas tidak logis. Jadi apa yang perlu Anda lakukan?\n",
    "Dengan mengasumsikan fungsi pertumbuhan hewan mengikuti fungsi logistik (atau fungsi pertumbuhan populasi lain yang menurut Anda lebih masuk akal),  berikan sistem persamaan baru yang memodelkan populasi Pemangsa dan Dimangsa. \n",
    "\n",
    "Oh ya, kalian tahu kan kalau Collab mendukung $\\LaTeX$?\n",
    "\n"
   ]
  },
  {
   "cell_type": "markdown",
   "metadata": {
    "colab_type": "text",
    "id": "oVDHXRUPM5iF"
   },
   "source": [
    "(tuliskan jawaban nomor 5.1 di sini)"
   ]
  },
  {
   "cell_type": "markdown",
   "metadata": {
    "colab_type": "text",
    "id": "AcA0PMZgM5_b"
   },
   "source": [
    "\n",
    "2. Perbaiki program Anda di bagian sebelumnya dengan persamaan baru yang Anda buat. Tentunya (atau mungkin sialnya?), konstanta lsju kematian dan perubahan kedua hewan perlu Anda ubah. Jika Anda tidak bisa mendapatkan nilai konstanta yang baru, tidak apa-apa - gunakan saja konstanta laju yang lama. (poin plus akan diberikan jika Anda berhasil mendapatkan konstanta baru.)"
   ]
  },
  {
   "cell_type": "code",
   "execution_count": null,
   "metadata": {
    "colab": {},
    "colab_type": "code",
    "id": "GPze5v_SzJG7"
   },
   "outputs": [],
   "source": [
    "#Soal nomor 5.2"
   ]
  },
  {
   "cell_type": "markdown",
   "metadata": {
    "colab_type": "text",
    "id": "lWCiPR6ulZCB"
   },
   "source": [
    "### 6. Bunga Terakhir\n",
    "\n",
    "**Catatan**: Untuk menghayati soal ini, disarankan menyetel lagu berikut: https://www.youtube.com/watch?v=NBf5P9Qd6cs\n",
    "\n",
    "Bagaimana perasaan Anda setelah disajikan beberapa permasalahan di atas? (Tentu saja, ini bukan pertanyaan dari soal di bagian ini.)\n",
    "\n",
    "Sekarang, bayangkan Anda diterima sebagai asisten Sikomat untuk semester ini. Bayangkan Anda membuat soal praktikum untuk dinikmati satu shift Anda.\n",
    "\n",
    "Dengan menggunakan silabus Sikomat tahun lalu, buatlah setidaknya satu soal (lengkap dengan narasi soal dan jawaban) praktikum Sikomat. Anda bebas memilih bagian silabus yang akan Anda pakai, tapi lampirkan juga bagian yang Anda pakai. Oh ya, kreativitas sangat dicari di soal ini."
   ]
  },
  {
   "cell_type": "markdown",
   "metadata": {
    "colab": {},
    "colab_type": "code",
    "id": "ghIKoiMHw6CO",
    "pycharm": {
     "name": "#%% md\n"
    }
   },
   "source": [
    "Soal nomor 6\n",
    "Ide:\n",
    "* Minesweeper Board Generation and Text-Based Game\n",
    "* Digit-by-digit Square Root Calculation (With precision points) -- ngakar kuadrat ala anak SD"
   ]
  },
  {
   "cell_type": "code",
   "execution_count": null,
   "outputs": [],
   "source": [
    "def gen_minesweeper_field(size=(10,10), mines=10):\n",
    "    width, len = size\n",
    "    while width*len <= mines:\n",
    "        try:\n",
    "            mines = int(input(\"Amount of mines exceeds playing area. Please specify a new amount: \"))\n",
    "        except ValueError:\n",
    "            print(\"Board generation failed: Amount of mines specified exceeds playing area.\")\n",
    "\n",
    "    mine = -1\n",
    "\n",
    "    np.random.seed(np.random.randint(101108))\n",
    "\n",
    "    field = np.zeros(size)\n",
    "    for i in range(mines):\n",
    "        mine_x, mine_y = np.random.randint(width), np.random.randint(len)\n",
    "        while field[mine_x, mine_y] == mine:\n",
    "            mine_x, mine_y = np.random.randint(width), np.random.randint(len)\n",
    "        field[mine_x, mine_y] = mine\n",
    "\n",
    "    for i in range(width):\n",
    "        for j in range(len):\n",
    "            if field[i, j] != mine:\n",
    "                dbound = i-1 if i >= 1 else i\n",
    "                ubound = i+2 if i <= width-2 else i+1\n",
    "                lbound = j-1 if j >= 1 else j\n",
    "                rbound = j+2 if j <= len-2 else j+1\n",
    "\n",
    "                neigh = field[dbound:ubound ,lbound:rbound]\n",
    "                field[i, j] = (neigh == mine).sum()\n",
    "    return field\n"
   ],
   "metadata": {
    "collapsed": false,
    "pycharm": {
     "name": "#%%\n"
    }
   }
  },
  {
   "cell_type": "code",
   "execution_count": 5,
   "outputs": [
    {
     "data": {
      "text/plain": "array([[ 0.,  1., -1.,  1.,  1., -1.,  1.,  0.,  0.,  0.],\n       [ 0.,  2.,  3.,  3.,  2.,  1.,  1.,  0.,  0.,  0.],\n       [ 0.,  1., -1., -1.,  1.,  0.,  0.,  0.,  0.,  0.],\n       [ 0.,  1.,  2.,  2.,  1.,  0.,  0.,  0.,  0.,  0.],\n       [ 0.,  0.,  0.,  0.,  0.,  0.,  0.,  0.,  0.,  0.],\n       [ 0.,  0.,  0.,  0.,  0.,  0.,  0.,  0.,  0.,  0.],\n       [ 0.,  1.,  1.,  1.,  0.,  1.,  1.,  2.,  1.,  1.],\n       [ 0.,  2., -1.,  2.,  0.,  1., -1.,  3., -1.,  2.],\n       [ 0.,  2., -1.,  2.,  1.,  2.,  2.,  3., -1.,  2.],\n       [ 0.,  1.,  1.,  1.,  1., -1.,  1.,  1.,  1.,  1.]])"
     },
     "execution_count": 5,
     "metadata": {},
     "output_type": "execute_result"
    }
   ],
   "source": [
    "minefield = gen_minesweeper_field()\n",
    "minefield"
   ],
   "metadata": {
    "collapsed": false,
    "pycharm": {
     "name": "#%%\n"
    }
   }
  },
  {
   "cell_type": "markdown",
   "source": [
    "<h3>Throwback SD : Akar Kuadrat!</h3>\n",
    "Ufifa adalah seorang anak gadis jenius kelas 5 SD. Ceritanya Ufifa baru diajari di kelas tentang akar kuadrat.  "
   ],
   "metadata": {
    "collapsed": false,
    "pycharm": {
     "name": "#%% md\n"
    }
   }
  },
  {
   "cell_type": "code",
   "execution_count": 12,
   "outputs": [
    {
     "data": {
      "text/plain": "<Figure size 432x288 with 1 Axes>",
      "image/png": "[encoded data removed]"
     },
     "metadata": {
      "needs_background": "light"
     },
     "output_type": "display_data"
    }
   ],
   "source": [
    "import seaborn as sns\n",
    "_ = sns.heatmap(minefield, annot=True, mask=minefield<=0, cbar=None)\n",
    "plt.show()"
   ],
   "metadata": {
    "collapsed": false,
    "pycharm": {
     "name": "#%%\n"
    }
   }
  },
  {
   "cell_type": "code",
   "execution_count": null,
   "outputs": [],
   "source": [
    "def decimal_len(x):\n",
    "    \"\"\"Counts the length of a decimal number, i.e. the greatest power of 10 smaller than x.\"\"\"\n",
    "    r = 1\n",
    "    while x >= 10:\n",
    "        x /= 10\n",
    "        r += 1\n",
    "    return r\n",
    "\n",
    "\n",
    "def decimal_sqrt(p, depth=0):\n",
    "    \"\"\"\n",
    "    Performs a digit-by-digit decimal estimate of the square root of p, down to a specifyied digits behind decimal point.\n",
    "    :param p: float\n",
    "        A decimal number whose square root is being estimated.\n",
    "\n",
    "    :param depth: int\n",
    "        Number of floating points to calculate.\n",
    "\n",
    "    :return: float\n",
    "        Square root estimate of p.\n",
    "    \"\"\"\n",
    "    dlen = decimal_len(p)\n",
    "    res = 0\n",
    "\n",
    "    for i in range ((dlen-1) // 2, -depth-1, -1):\n",
    "        pos = p / 100**i\n",
    "\n",
    "        r = 20 * res\n",
    "        s = 0\n",
    "        while ((r+s) * s) <= pos:\n",
    "            s += 1\n",
    "        s -= 1\n",
    "\n",
    "        res = 10*res + s\n",
    "        p -= (r+s)*s * 100**i\n",
    "    result = str(res)[:dlen] + \".\" + str(res)[dlen:]\n",
    "    return result"
   ],
   "metadata": {
    "collapsed": false,
    "pycharm": {
     "name": "#%%\n"
    }
   }
  }
 ],
 "metadata": {
  "colab": {
   "collapsed_sections": [],
   "name": "asprak_sikomat_2020",
   "provenance": []
  },
  "kernelspec": {
   "display_name": "Python 3",
   "language": "python",
   "name": "python3"
  },
  "language_info": {
   "codemirror_mode": {
    "name": "ipython",
    "version": 3
   },
   "file_extension": ".py",
   "mimetype": "text/x-python",
   "name": "python",
   "nbconvert_exporter": "python",
   "pygments_lexer": "ipython3",
   "version": "3.7.6"
  }
 },
 "nbformat": 4,
 "nbformat_minor": 1
}