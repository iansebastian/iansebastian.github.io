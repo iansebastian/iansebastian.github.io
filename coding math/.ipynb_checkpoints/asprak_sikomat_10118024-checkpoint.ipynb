{
 "cells": [
  {
   "cell_type": "markdown",
   "metadata": {
    "colab_type": "text",
    "id": "fPlFP-5ghc_t"
   },
   "source": [
    "# **MA2151 Simulasi dan Komputasi Matematika**\n",
    "## **Seleksi Asisten Praktikum**\n",
    "\n",
    "\n",
    "## Teknis Pengerjaan\n",
    "1. Buat salinan dari *notebook* ini ke Google Drive anda, dan *rename* berkas menjadi `asprak_sikomat_NIM.ipynb`.\n",
    "2. Kumpulkan hasil pekerjaan anda (dalam format .ipynb dan sesuai dengan format dokumen ini) ke LINE Afif (mafifapip) sebelum **Sabtu, 15 Agustus 2020, jam 11:59 WIB**. Harap menuliskan seluruh pekerjaan Anda dalam berkas yang Anda kirimkan.\n",
    "3. Beberapa parameter yang akan digunakan dalam penilaian ini adalah:\n",
    "  * Tingkat kesuksesan.\n",
    "  * Kompleksitas waktu dan/atau kode.\n",
    "  * Keterbacaan (termasuk komentar)\n",
    "  * Argumen matematika\n",
    "  * Kekreatifan (terutama untuk nomor 6)\n",
    "\n",
    "    \n",
    "*Mengingat tim penseleksi bukan cenayang digital, sebaiknya Anda memberikan komentar di program yang Anda buat. Walaupun tidak dipaksakan, menulis mengikuti gaya penulisan Python (misal [PEP 8](https://www.python.org/dev/peps/pep-0008/)) lebih baik.*\n"
   ]
  },
  {
   "cell_type": "markdown",
   "metadata": {
    "colab_type": "text",
    "id": "fCfzTTzSmknZ"
   },
   "source": [
    "### 1. Rekursi Sederhana\n",
    "\n",
    "**Catatan**: Untuk menghayati soal ini, disarankan menyetel lagu berikut: https://www.youtube.com/watch?v=FFYAZ9KxWnI dan https://www.youtube.com/watch?v=fwGuv2vmoVg . Tentunya, tidak ada konsekuensi (nilai plus ataupun minus) yang Anda dapatkan jikalau Anda menyetel, atau tidak menyetel lagu tersebut - saya hanya ingin berbagi rekomendasi saja.\n",
    "\n",
    "Definisikan barisan $a_i$ sebagai berikut: $a_1=a_2=1$ dan $\\dfrac{1}{a_{n+2}}=\\dfrac{1}{a_{n+1}}+\\dfrac{1}{a_n}$ untuk semua $n$ bilangan bulat positif. Lengkapilah fungsi `ratio(i)` yang dapat menentukan, dengan ketepatan 10 digit di belakang koma, nilai $\\dfrac{a_{i+1}}{a_{i}}$, untuk $1\\leq i \\leq 10000$."
   ]
  },
  {
   "cell_type": "markdown",
   "metadata": {
    "pycharm": {
     "name": "#%% md\n"
    }
   },
   "source": [
    "Argumen preliminer:\n",
    "\n",
    "Melalui induksi, kita dapat membuktikan bahwa untuk semua n, $\\frac{1}{a_n} = f_n$ dimana $f_n$ adalah bilangan Fibonacci ke-n.\n",
    "\n",
    "Selain itu, dengan memisal $p_n = \\frac{a_{n}}{a_{n-1}}$ dapat kita peroleh $p_n = \\frac{1}{1\\, + \\,p_{n-1}}$."
   ]
  },
  {
   "cell_type": "code",
   "execution_count": 1,
   "metadata": {
    "colab": {},
    "colab_type": "code",
    "executionInfo": {
     "elapsed": 1062,
     "status": "ok",
     "timestamp": 1597438889896,
     "user": {
      "displayName": "Ian Sebastian",
      "photoUrl": "",
      "userId": "17980480949557469800"
     },
     "user_tz": -420
    },
    "id": "5yYbvI9Ymtr3"
   },
   "outputs": [],
   "source": [
    "## Anda juga dapat menulis kode di sini.\n",
    "\n",
    "def memoize(func):\n",
    "    \"\"\"Store results of the decorated function for fast lookup\"\"\"\n",
    "    cache = {}\n",
    "    def wrapper (*args, **kwargs):\n",
    "        if (args) not in cache:\n",
    "            cache[(args)] = func(*args)\n",
    "        return cache[(args)]\n",
    "    return wrapper\n",
    "\n",
    "\n",
    "@memoize\n",
    "def ratio_memo(i):\n",
    "    \"\"\"\n",
    "    Menghitung hasil a_{i+1}/a{i} secara rekursif menggunakan bantuan memoisasi.\n",
    "    Hasil cukup tidak terduga, kadang cepat kadang tidak.\n",
    "    Args:\n",
    "        i : int\n",
    "            menyatakan bilangan ke-berapa yang akan ditampilkan\n",
    "    Returns:\n",
    "        float\n",
    "            bilangan ke-i\n",
    "    \"\"\"\n",
    "    return 1 if i <=2 else 1/(1 + ratio_memo(i-1))\n",
    "\n",
    "\n",
    "def ratio_matrix(i):\n",
    "    \"\"\"\n",
    "    Menghitung deret Fibonacci secara eksplisit menggunakan eksponensiasi matrix ([1, 1],[1, 0]).\n",
    "    Baru menghitung rasio dari angka2 yang didapatkan. Kompleksitas O(log(i)) - lebih cepat dari rekursi.\n",
    "        Args:\n",
    "        i : int\n",
    "            menyatakan bilangan ke-berapa yang akan ditampilkan\n",
    "    Returns:\n",
    "        float\n",
    "            bilangan ke-i\n",
    "    \"\"\"\n",
    "    def mat_mult_2x2(A, B):\n",
    "        \"\"\"\n",
    "        Fungsi untuk melakukan perkalian matriks 2x2.\n",
    "        Args\n",
    "        ====\n",
    "            A, B : list of int with length 4.\n",
    "                Menyatakan isi matriks, berturut a11, a12, a21, a22.\n",
    "        Returns\n",
    "        =======\n",
    "            list of int with length 4.\n",
    "                Hasil perkalian matriks.\n",
    "        \"\"\"\n",
    "        return [A[0]*B[0]+A[1]*B[2], A[0]*B[1]+A[1]*B[3], A[2]*B[0]+A[3]*B[2], A[2]*B[1]+A[3]*B[3]]\n",
    "\n",
    "\n",
    "    def mat_exp(C, n):\n",
    "        \"\"\"\n",
    "        Memangkatkan matriks sejauh n. Pemangkatan dilakukan dengan metode eksponensiasi biner.\n",
    "        Args:\n",
    "            n : int\n",
    "        Returns:\n",
    "            list of int with length 4.\n",
    "                A**n.\n",
    "        \"\"\"\n",
    "        if n == 1:\n",
    "            return C\n",
    "        elif n % 2:\n",
    "            return mat_mult_2x2(C, mat_exp(C, n-1))\n",
    "        D = mat_exp(C, n//2)\n",
    "        return mat_mult_2x2(D, D)\n",
    "\n",
    "    if i <= 2:\n",
    "        return 1\n",
    "    else:\n",
    "        f_n_pl_1, f_n, _, _ = mat_exp([1, 1, 1, 0], i-1)\n",
    "        return f_n/f_n_pl_1\n",
    "\n",
    "def ratio(i, method='matrix'):\n",
    "    methods = {\n",
    "        'matrix' : ratio_matrix,\n",
    "        'memo'   : ratio_memo\n",
    "    }\n",
    "    return methods[method](i)"
   ]
  },
  {
   "cell_type": "code",
   "execution_count": 2,
   "metadata": {
    "colab": {
     "base_uri": "https://localhost:8080/",
     "height": 34
    },
    "colab_type": "code",
    "executionInfo": {
     "elapsed": 1104,
     "status": "ok",
     "timestamp": 1597438926170,
     "user": {
      "displayName": "Ian Sebastian",
      "photoUrl": "",
      "userId": "17980480949557469800"
     },
     "user_tz": -420
    },
    "id": "rtlDYySVZPWl",
    "outputId": "1d89fb68-182c-4c81-b6b5-4feb18de74bf",
    "pycharm": {
     "name": "#%%\n"
    }
   },
   "outputs": [
    {
     "data": {
      "text/plain": [
       "0.6180339887498949"
      ]
     },
     "execution_count": 2,
     "metadata": {},
     "output_type": "execute_result"
    }
   ],
   "source": [
    "ratio(1000000)"
   ]
  },
  {
   "cell_type": "markdown",
   "metadata": {
    "colab_type": "text",
    "id": "O5rMzdOsZPWt"
   },
   "source": [
    "### 2. Selamat Datang di Omonib\n",
    "\n",
    "**Catatan**: Untuk menghayati soal ini, disarankan menyetel lagu berikut: https://www.youtube.com/watch?v=b8ztR3KXR0g\n",
    "\n",
    "Halo nama saya Dibu Setiawan, saya seorang treder profesyonal... lupakan saja.\n",
    "\n",
    "Saya sekarang sedang mencoba membuat (para praktikan membuat) animasi pergerakan saham (seperti di iklan omonib yang dulu viral), namun sialnya saya hanya dapat menggunakan Python untuk dapat melakukan hal ini. Bisabantu saya?\n",
    "\n",
    "**Catatan**: Saham yang dimodelkan TIDAK diambil dari data saham di dunia nyata  -  melainkan  dimodelkan  secara  matematis.   Jelaskan  secara  singkat pemodelan yang dipakai dalam jawaban Anda.\n",
    "\n"
   ]
  },
  {
   "cell_type": "code",
   "execution_count": 3,
   "metadata": {
    "colab": {},
    "colab_type": "code",
    "executionInfo": {
     "elapsed": 2469,
     "status": "ok",
     "timestamp": 1597433146879,
     "user": {
      "displayName": "Ian Sebastian",
      "photoUrl": "",
      "userId": "17980480949557469800"
     },
     "user_tz": -420
    },
    "id": "dRwdRCVauAFC"
   },
   "outputs": [],
   "source": [
    "## Tulis module yang anda perlukan di sini, jika ada.\n",
    "import numpy as np\n",
    "import matplotlib.pyplot as plt\n",
    "from matplotlib import animation\n",
    "from IPython.display import HTML"
   ]
  },
  {
   "cell_type": "code",
   "execution_count": 4,
   "metadata": {
    "colab": {
     "base_uri": "https://localhost:8080/",
     "height": 471
    },
    "colab_type": "code",
    "executionInfo": {
     "elapsed": 811,
     "status": "ok",
     "timestamp": 1597433184751,
     "user": {
      "displayName": "Ian Sebastian",
      "photoUrl": "",
      "userId": "17980480949557469800"
     },
     "user_tz": -420
    },
    "id": "yX-1kbLcZPWz",
    "outputId": "a6838ad0-ba94-4e30-fb8e-69084e506ca6",
    "pycharm": {
     "name": "#%%\n"
    }
   },
   "outputs": [
    {
     "name": "stdout",
     "output_type": "stream",
     "text": [
      "A Random Walk Down Wall Street - Simulasi Pergerakan Saham\n",
      "==================================================\n",
      "Simulasi dilakukan untuk 10 hari dengan nilai awal 5 dan standar deviasi 0.5.\n",
      "Anda dapat mengubahnya langsung dari kode di notebook.\n",
      "Memuat simulasi...\n",
      "\n",
      "\n",
      "Animation object created successfully!\n",
      "Use cell below to import as mp4 file.\n",
      "Use the cell below that to display in Jupyter Notebooks.\n"
     ]
    },
    {
     "data": {
      "image/png": "[encoded data removed]",
      "text/plain": [
       "<Figure size 432x288 with 1 Axes>"
      ]
     },
     "metadata": {
      "needs_background": "light"
     },
     "output_type": "display_data"
    }
   ],
   "source": [
    "def gen_pure_randwalk(len=1000, drift=5, sigma=1):\n",
    "    \"\"\"\n",
    "    Generates a pure random walk for data, with starting point 5, and standard deviation 1 unless specified.\n",
    "    A random walk motion has zero mean and is i.i.d for all points.\n",
    "    Args\n",
    "    ----\n",
    "    len: int\n",
    "        The length desired for data. Default value 260 (representing 260 days - 5 days a week, 52 weeks a year - annual)\n",
    "    drift: int\n",
    "        Defines the initial value desired for data.\n",
    "    sigma: float\n",
    "        The standard deviation desired for the random walk.\n",
    "\n",
    "    Returns\n",
    "    -------\n",
    "        data:\n",
    "            a NumPy array, containing values for random walk.\n",
    "    \"\"\"\n",
    "    # To ensure that each generation generates different data.\n",
    "    np.random.seed(np.random.randint(101108))\n",
    "\n",
    "    # Initializing array\n",
    "    data = np.empty(len)\n",
    "    data[0] = drift\n",
    "\n",
    "    # Plugging in the random walk\n",
    "    for i in range(1, len):\n",
    "        data[i] = data[i-1] + np.random.randn()*sigma\n",
    "        if data[i] <= 0:\n",
    "            data[i] = data[i-1]\n",
    "    return data\n",
    "\n",
    "\n",
    "def init():\n",
    "    \"\"\"Membersihkan figure sebagai best practice menggunakan FuncAnimation.\"\"\"\n",
    "    _ = l.set_xdata([])\n",
    "    _ = l.set_ydata([])\n",
    "    return l,\n",
    "\n",
    "\n",
    "def update_line(num, data, line):\n",
    "    \"\"\"\n",
    "    Fungsi untuk membangun plot baru di frame yang baru.\n",
    "    Pada kasus ini saya hanya mengeset data yang ditampilkan objek Line2D (nama line, tanda koma perlu saat mengubah data sebab line adalah list.)\n",
    "    \"\"\"\n",
    "    _ = line.set_xdata(np.arange(num))\n",
    "    _ = line.set_ydata(data[:num])\n",
    "    return line,\n",
    "\n",
    "fig, ax = plt.subplots()\n",
    "\n",
    "print(\"A Random Walk Down Wall Street - Simulasi Pergerakan Saham\\n\"+\"=\"*50)\n",
    "print(\"Simulasi dilakukan untuk 10 hari dengan nilai awal 5 dan standar deviasi 0.5.\\n\" + \"Anda dapat mengubahnya langsung dari kode di notebook.\")\n",
    "print(\"Memuat simulasi...\\n\\n\")\n",
    "\n",
    "data = gen_pure_randwalk(len=1000, drift=5, sigma=0.5)\n",
    "l, = ax.plot([], [], 'b-')\n",
    "\n",
    "_ = ax.set_title(\"A Random Walk Down Wall Street\")\n",
    "_ = ax.set_xlim((0, 1000))\n",
    "_ = ax.set_ylim((0, np.max(data)+10))\n",
    "_ = ax.set_xlabel(\"Days since IPO\")\n",
    "_ = ax.set_ylabel(\"Closing Price\")\n",
    "\n",
    "anim = animation.FuncAnimation(\n",
    "    fig, update_line, 1000, fargs=(data, l), interval=5, blit=True, init_func=init)\n",
    "\n",
    "print(\"Animation object created successfully!\\nUse cell below to import as mp4 file.\\nUse the cell below that to display in Jupyter Notebooks.\")"
   ]
  },
  {
   "cell_type": "code",
   "execution_count": 5,
   "metadata": {
    "colab": {},
    "colab_type": "code",
    "id": "xRkio7xRZPW4",
    "pycharm": {
     "name": "#%%\n"
    }
   },
   "outputs": [
    {
     "ename": "FileNotFoundError",
     "evalue": "[WinError 2] The system cannot find the file specified",
     "output_type": "error",
     "traceback": [
      "\u001b[1;31m---------------------------------------------------------------------------\u001b[0m",
      "\u001b[1;31mFileNotFoundError\u001b[0m                         Traceback (most recent call last)",
      "\u001b[1;32m<ipython-input-5-41e8e8ab0298>\u001b[0m in \u001b[0;36m<module>\u001b[1;34m\u001b[0m\n\u001b[0;32m      1\u001b[0m \u001b[1;32mfrom\u001b[0m \u001b[0mmatplotlib\u001b[0m\u001b[1;33m.\u001b[0m\u001b[0manimation\u001b[0m \u001b[1;32mimport\u001b[0m \u001b[0mFFMpegWriter\u001b[0m\u001b[1;33m\u001b[0m\u001b[1;33m\u001b[0m\u001b[0m\n\u001b[0;32m      2\u001b[0m \u001b[0mwriter\u001b[0m \u001b[1;33m=\u001b[0m \u001b[0mFFMpegWriter\u001b[0m\u001b[1;33m(\u001b[0m\u001b[0mfps\u001b[0m\u001b[1;33m=\u001b[0m\u001b[1;36m60\u001b[0m\u001b[1;33m,\u001b[0m \u001b[0mmetadata\u001b[0m\u001b[1;33m=\u001b[0m\u001b[0mdict\u001b[0m\u001b[1;33m(\u001b[0m\u001b[0martist\u001b[0m\u001b[1;33m=\u001b[0m\u001b[1;34m'Ian Sebastian'\u001b[0m\u001b[1;33m)\u001b[0m\u001b[1;33m,\u001b[0m \u001b[0mbitrate\u001b[0m\u001b[1;33m=\u001b[0m\u001b[1;36m1800\u001b[0m\u001b[1;33m)\u001b[0m\u001b[1;33m\u001b[0m\u001b[1;33m\u001b[0m\u001b[0m\n\u001b[1;32m----> 3\u001b[1;33m \u001b[0manim\u001b[0m\u001b[1;33m.\u001b[0m\u001b[0msave\u001b[0m\u001b[1;33m(\u001b[0m\u001b[1;34m\"randwalk.mp4\"\u001b[0m\u001b[1;33m,\u001b[0m \u001b[0mwriter\u001b[0m\u001b[1;33m=\u001b[0m\u001b[0mwriter\u001b[0m\u001b[1;33m)\u001b[0m\u001b[1;33m\u001b[0m\u001b[1;33m\u001b[0m\u001b[0m\n\u001b[0m\u001b[0;32m      4\u001b[0m \u001b[0mprint\u001b[0m\u001b[1;33m(\u001b[0m\u001b[1;34m\"Video import done.\"\u001b[0m\u001b[1;33m)\u001b[0m\u001b[1;33m\u001b[0m\u001b[1;33m\u001b[0m\u001b[0m\n",
      "\u001b[1;32m~\\anaconda3\\lib\\site-packages\\matplotlib\\animation.py\u001b[0m in \u001b[0;36msave\u001b[1;34m(self, filename, writer, fps, dpi, codec, bitrate, extra_args, metadata, extra_anim, savefig_kwargs, progress_callback)\u001b[0m\n\u001b[0;32m   1134\u001b[0m                           \"animation.\")\n\u001b[0;32m   1135\u001b[0m                 \u001b[0mrcParams\u001b[0m\u001b[1;33m[\u001b[0m\u001b[1;34m'savefig.bbox'\u001b[0m\u001b[1;33m]\u001b[0m \u001b[1;33m=\u001b[0m \u001b[1;32mNone\u001b[0m\u001b[1;33m\u001b[0m\u001b[1;33m\u001b[0m\u001b[0m\n\u001b[1;32m-> 1136\u001b[1;33m             \u001b[1;32mwith\u001b[0m \u001b[0mwriter\u001b[0m\u001b[1;33m.\u001b[0m\u001b[0msaving\u001b[0m\u001b[1;33m(\u001b[0m\u001b[0mself\u001b[0m\u001b[1;33m.\u001b[0m\u001b[0m_fig\u001b[0m\u001b[1;33m,\u001b[0m \u001b[0mfilename\u001b[0m\u001b[1;33m,\u001b[0m \u001b[0mdpi\u001b[0m\u001b[1;33m)\u001b[0m\u001b[1;33m:\u001b[0m\u001b[1;33m\u001b[0m\u001b[1;33m\u001b[0m\u001b[0m\n\u001b[0m\u001b[0;32m   1137\u001b[0m                 \u001b[1;32mfor\u001b[0m \u001b[0manim\u001b[0m \u001b[1;32min\u001b[0m \u001b[0mall_anim\u001b[0m\u001b[1;33m:\u001b[0m\u001b[1;33m\u001b[0m\u001b[1;33m\u001b[0m\u001b[0m\n\u001b[0;32m   1138\u001b[0m                     \u001b[1;31m# Clear the initial frame\u001b[0m\u001b[1;33m\u001b[0m\u001b[1;33m\u001b[0m\u001b[1;33m\u001b[0m\u001b[0m\n",
      "\u001b[1;32m~\\anaconda3\\lib\\contextlib.py\u001b[0m in \u001b[0;36m__enter__\u001b[1;34m(self)\u001b[0m\n\u001b[0;32m    110\u001b[0m         \u001b[1;32mdel\u001b[0m \u001b[0mself\u001b[0m\u001b[1;33m.\u001b[0m\u001b[0margs\u001b[0m\u001b[1;33m,\u001b[0m \u001b[0mself\u001b[0m\u001b[1;33m.\u001b[0m\u001b[0mkwds\u001b[0m\u001b[1;33m,\u001b[0m \u001b[0mself\u001b[0m\u001b[1;33m.\u001b[0m\u001b[0mfunc\u001b[0m\u001b[1;33m\u001b[0m\u001b[1;33m\u001b[0m\u001b[0m\n\u001b[0;32m    111\u001b[0m         \u001b[1;32mtry\u001b[0m\u001b[1;33m:\u001b[0m\u001b[1;33m\u001b[0m\u001b[1;33m\u001b[0m\u001b[0m\n\u001b[1;32m--> 112\u001b[1;33m             \u001b[1;32mreturn\u001b[0m \u001b[0mnext\u001b[0m\u001b[1;33m(\u001b[0m\u001b[0mself\u001b[0m\u001b[1;33m.\u001b[0m\u001b[0mgen\u001b[0m\u001b[1;33m)\u001b[0m\u001b[1;33m\u001b[0m\u001b[1;33m\u001b[0m\u001b[0m\n\u001b[0m\u001b[0;32m    113\u001b[0m         \u001b[1;32mexcept\u001b[0m \u001b[0mStopIteration\u001b[0m\u001b[1;33m:\u001b[0m\u001b[1;33m\u001b[0m\u001b[1;33m\u001b[0m\u001b[0m\n\u001b[0;32m    114\u001b[0m             \u001b[1;32mraise\u001b[0m \u001b[0mRuntimeError\u001b[0m\u001b[1;33m(\u001b[0m\u001b[1;34m\"generator didn't yield\"\u001b[0m\u001b[1;33m)\u001b[0m \u001b[1;32mfrom\u001b[0m \u001b[1;32mNone\u001b[0m\u001b[1;33m\u001b[0m\u001b[1;33m\u001b[0m\u001b[0m\n",
      "\u001b[1;32m~\\anaconda3\\lib\\site-packages\\matplotlib\\animation.py\u001b[0m in \u001b[0;36msaving\u001b[1;34m(self, fig, outfile, dpi, *args, **kwargs)\u001b[0m\n\u001b[0;32m    226\u001b[0m         '''\n\u001b[0;32m    227\u001b[0m         \u001b[1;31m# This particular sequence is what contextlib.contextmanager wants\u001b[0m\u001b[1;33m\u001b[0m\u001b[1;33m\u001b[0m\u001b[1;33m\u001b[0m\u001b[0m\n\u001b[1;32m--> 228\u001b[1;33m         \u001b[0mself\u001b[0m\u001b[1;33m.\u001b[0m\u001b[0msetup\u001b[0m\u001b[1;33m(\u001b[0m\u001b[0mfig\u001b[0m\u001b[1;33m,\u001b[0m \u001b[0moutfile\u001b[0m\u001b[1;33m,\u001b[0m \u001b[0mdpi\u001b[0m\u001b[1;33m,\u001b[0m \u001b[1;33m*\u001b[0m\u001b[0margs\u001b[0m\u001b[1;33m,\u001b[0m \u001b[1;33m**\u001b[0m\u001b[0mkwargs\u001b[0m\u001b[1;33m)\u001b[0m\u001b[1;33m\u001b[0m\u001b[1;33m\u001b[0m\u001b[0m\n\u001b[0m\u001b[0;32m    229\u001b[0m         \u001b[1;32mtry\u001b[0m\u001b[1;33m:\u001b[0m\u001b[1;33m\u001b[0m\u001b[1;33m\u001b[0m\u001b[0m\n\u001b[0;32m    230\u001b[0m             \u001b[1;32myield\u001b[0m \u001b[0mself\u001b[0m\u001b[1;33m\u001b[0m\u001b[1;33m\u001b[0m\u001b[0m\n",
      "\u001b[1;32m~\\anaconda3\\lib\\site-packages\\matplotlib\\animation.py\u001b[0m in \u001b[0;36msetup\u001b[1;34m(self, fig, outfile, dpi)\u001b[0m\n\u001b[0;32m    350\u001b[0m         \u001b[1;31m# Run here so that grab_frame() can write the data to a pipe. This\u001b[0m\u001b[1;33m\u001b[0m\u001b[1;33m\u001b[0m\u001b[1;33m\u001b[0m\u001b[0m\n\u001b[0;32m    351\u001b[0m         \u001b[1;31m# eliminates the need for temp files.\u001b[0m\u001b[1;33m\u001b[0m\u001b[1;33m\u001b[0m\u001b[1;33m\u001b[0m\u001b[0m\n\u001b[1;32m--> 352\u001b[1;33m         \u001b[0mself\u001b[0m\u001b[1;33m.\u001b[0m\u001b[0m_run\u001b[0m\u001b[1;33m(\u001b[0m\u001b[1;33m)\u001b[0m\u001b[1;33m\u001b[0m\u001b[1;33m\u001b[0m\u001b[0m\n\u001b[0m\u001b[0;32m    353\u001b[0m \u001b[1;33m\u001b[0m\u001b[0m\n\u001b[0;32m    354\u001b[0m     \u001b[1;32mdef\u001b[0m \u001b[0m_run\u001b[0m\u001b[1;33m(\u001b[0m\u001b[0mself\u001b[0m\u001b[1;33m)\u001b[0m\u001b[1;33m:\u001b[0m\u001b[1;33m\u001b[0m\u001b[1;33m\u001b[0m\u001b[0m\n",
      "\u001b[1;32m~\\anaconda3\\lib\\site-packages\\matplotlib\\animation.py\u001b[0m in \u001b[0;36m_run\u001b[1;34m(self)\u001b[0m\n\u001b[0;32m    361\u001b[0m         self._proc = subprocess.Popen(\n\u001b[0;32m    362\u001b[0m             \u001b[0mcommand\u001b[0m\u001b[1;33m,\u001b[0m \u001b[0mstdin\u001b[0m\u001b[1;33m=\u001b[0m\u001b[0mPIPE\u001b[0m\u001b[1;33m,\u001b[0m \u001b[0mstdout\u001b[0m\u001b[1;33m=\u001b[0m\u001b[0mPIPE\u001b[0m\u001b[1;33m,\u001b[0m \u001b[0mstderr\u001b[0m\u001b[1;33m=\u001b[0m\u001b[0mPIPE\u001b[0m\u001b[1;33m,\u001b[0m\u001b[1;33m\u001b[0m\u001b[1;33m\u001b[0m\u001b[0m\n\u001b[1;32m--> 363\u001b[1;33m             creationflags=subprocess_creation_flags)\n\u001b[0m\u001b[0;32m    364\u001b[0m \u001b[1;33m\u001b[0m\u001b[0m\n\u001b[0;32m    365\u001b[0m     \u001b[1;32mdef\u001b[0m \u001b[0mfinish\u001b[0m\u001b[1;33m(\u001b[0m\u001b[0mself\u001b[0m\u001b[1;33m)\u001b[0m\u001b[1;33m:\u001b[0m\u001b[1;33m\u001b[0m\u001b[1;33m\u001b[0m\u001b[0m\n",
      "\u001b[1;32m~\\anaconda3\\lib\\subprocess.py\u001b[0m in \u001b[0;36m__init__\u001b[1;34m(self, args, bufsize, executable, stdin, stdout, stderr, preexec_fn, close_fds, shell, cwd, env, universal_newlines, startupinfo, creationflags, restore_signals, start_new_session, pass_fds, encoding, errors, text)\u001b[0m\n\u001b[0;32m    798\u001b[0m                                 \u001b[0mc2pread\u001b[0m\u001b[1;33m,\u001b[0m \u001b[0mc2pwrite\u001b[0m\u001b[1;33m,\u001b[0m\u001b[1;33m\u001b[0m\u001b[1;33m\u001b[0m\u001b[0m\n\u001b[0;32m    799\u001b[0m                                 \u001b[0merrread\u001b[0m\u001b[1;33m,\u001b[0m \u001b[0merrwrite\u001b[0m\u001b[1;33m,\u001b[0m\u001b[1;33m\u001b[0m\u001b[1;33m\u001b[0m\u001b[0m\n\u001b[1;32m--> 800\u001b[1;33m                                 restore_signals, start_new_session)\n\u001b[0m\u001b[0;32m    801\u001b[0m         \u001b[1;32mexcept\u001b[0m\u001b[1;33m:\u001b[0m\u001b[1;33m\u001b[0m\u001b[1;33m\u001b[0m\u001b[0m\n\u001b[0;32m    802\u001b[0m             \u001b[1;31m# Cleanup if the child failed starting.\u001b[0m\u001b[1;33m\u001b[0m\u001b[1;33m\u001b[0m\u001b[1;33m\u001b[0m\u001b[0m\n",
      "\u001b[1;32m~\\anaconda3\\lib\\subprocess.py\u001b[0m in \u001b[0;36m_execute_child\u001b[1;34m(self, args, executable, preexec_fn, close_fds, pass_fds, cwd, env, startupinfo, creationflags, shell, p2cread, p2cwrite, c2pread, c2pwrite, errread, errwrite, unused_restore_signals, unused_start_new_session)\u001b[0m\n\u001b[0;32m   1205\u001b[0m                                          \u001b[0menv\u001b[0m\u001b[1;33m,\u001b[0m\u001b[1;33m\u001b[0m\u001b[1;33m\u001b[0m\u001b[0m\n\u001b[0;32m   1206\u001b[0m                                          \u001b[0mos\u001b[0m\u001b[1;33m.\u001b[0m\u001b[0mfspath\u001b[0m\u001b[1;33m(\u001b[0m\u001b[0mcwd\u001b[0m\u001b[1;33m)\u001b[0m \u001b[1;32mif\u001b[0m \u001b[0mcwd\u001b[0m \u001b[1;32mis\u001b[0m \u001b[1;32mnot\u001b[0m \u001b[1;32mNone\u001b[0m \u001b[1;32melse\u001b[0m \u001b[1;32mNone\u001b[0m\u001b[1;33m,\u001b[0m\u001b[1;33m\u001b[0m\u001b[1;33m\u001b[0m\u001b[0m\n\u001b[1;32m-> 1207\u001b[1;33m                                          startupinfo)\n\u001b[0m\u001b[0;32m   1208\u001b[0m             \u001b[1;32mfinally\u001b[0m\u001b[1;33m:\u001b[0m\u001b[1;33m\u001b[0m\u001b[1;33m\u001b[0m\u001b[0m\n\u001b[0;32m   1209\u001b[0m                 \u001b[1;31m# Child is launched. Close the parent's copy of those pipe\u001b[0m\u001b[1;33m\u001b[0m\u001b[1;33m\u001b[0m\u001b[1;33m\u001b[0m\u001b[0m\n",
      "\u001b[1;31mFileNotFoundError\u001b[0m: [WinError 2] The system cannot find the file specified"
     ]
    }
   ],
   "source": [
    "from matplotlib.animation import FFMpegWriter\n",
    "writer = FFMpegWriter(fps=60, metadata=dict(artist='Ian Sebastian'), bitrate=1800)\n",
    "anim.save(\"randwalk.mp4\", writer=writer)\n",
    "print(\"Video import done.\")"
   ]
  },
  {
   "cell_type": "code",
   "execution_count": null,
   "metadata": {
    "colab": {
     "base_uri": "https://localhost:8080/",
     "height": 308
    },
    "colab_type": "code",
    "executionInfo": {
     "elapsed": 51482,
     "status": "ok",
     "timestamp": 1597433242278,
     "user": {
      "displayName": "Ian Sebastian",
      "photoUrl": "",
      "userId": "17980480949557469800"
     },
     "user_tz": -420
    },
    "id": "ik9lRcV9ZPW-",
    "outputId": "9c06b655-7ba4-4f74-f752-a45419e00255",
    "pycharm": {
     "name": "#%%\n"
    }
   },
   "outputs": [],
   "source": [
    "# Mengekspor objek animasi plot menjadi elemen video HTML5 yang bisa diunduh.\n",
    "HTML(anim.to_html5_video())"
   ]
  },
  {
   "cell_type": "code",
   "execution_count": null,
   "metadata": {
    "colab": {
     "base_uri": "https://localhost:8080/",
     "height": 384,
     "output_embedded_package_id": "1X5assYlnACGIJErmssvxqKNqN3YbOKJi"
    },
    "colab_type": "code",
    "executionInfo": {
     "elapsed": 18004,
     "status": "ok",
     "timestamp": 1597438590373,
     "user": {
      "displayName": "Ian Sebastian",
      "photoUrl": "",
      "userId": "17980480949557469800"
     },
     "user_tz": -420
    },
    "id": "ZXoZOrYYZPXE",
    "outputId": "70c3490e-312d-4d53-9569-d549afff3592",
    "pycharm": {
     "name": "#%%\n"
    }
   },
   "outputs": [],
   "source": [
    "# Menghasilkan objek JavaScript yang bisa berinteraksi, kurang lebih seperti contoh di \n",
    "# halaman https://matplotlib.org/gallery/animation/unchained.html#sphx-glr-gallery-animation-unchained-py\n",
    "import matplotlib\n",
    "matplotlib.rcParams['animation.embed_limit'] = 2**128       # Mengatur batas atas ukuran objek yang ingin dibuat\n",
    "\n",
    "HTML(anim.to_jshtml())"
   ]
  },
  {
   "cell_type": "markdown",
   "metadata": {
    "colab_type": "text",
    "id": "cQwhB15nZPXK"
   },
   "source": [
    "### 3. Kenangan di Pinggir Sungai\n",
    "\n",
    "Pandemi memang menyebalkan. Kelas saya libur, kelas adik saya libur.\n",
    "Kami pun membuat permainan baru guna mengisi waktu luang tanpa bertemu teman-teman sepantaran kami.\n",
    "\n",
    "Pertama, saya mengambil $n$ buah batu dari sungai, dan meletakkan mereka di halaman belakang rumah.\n",
    "Saya dan adik saya secara bergiliran mengambil $1,2,3,\\dotsc$ atau $m$ buah batu\n",
    "(dengan saya selalu melangkah pertama kali). Pemain yang menghabiskan batu memenangkan permainan tersebut,\n",
    "dan pemain yang kalah harus mengembalikan bebatuan tersebut ke pinggir sungai.\n",
    "\n",
    "Sebagai contoh, misal $n=10$, $m=4$. Permainan berlangsung sebagai berikut\n",
    "\n",
    "```\n",
    "Banyak batu untuk bermain: 10\n",
    "Maksimum batu yang boleh diambil: 4\n",
    "\n",
    "Saya mengambil 2 batu. Sisa batu: 8\n",
    "Adik mengambil 3 batu. Sisa batu: 5\n",
    "Saya mengambil 1 batu. Sisa batu: 4\n",
    "Adik mengambil 4 batu. Sisa batu: 0\n",
    "\n",
    "Adik menang.\n",
    "```\n",
    "\n",
    "Eh, salah, kok adik saya yang menang. Coba saya ulangi lagi permainannya.\n",
    "```\n",
    "Banyak batu untuk bermain: 10\n",
    "Maksimum batu yang boleh diambil: 4\n",
    "\n",
    "Saya mengambil 4 batu. Sisa batu: 6\n",
    "Adik mengambil 3 batu. Sisa batu: 3\n",
    "Saya mengambil 3 batu. Sisa batu: 0\n",
    "\n",
    "Saya menang.\n",
    "```\n",
    "\n",
    "Suatu hari, adik saya sedang tidak ingin memainkan permainan ini. Mengingat revolusi industri 4.0 membuat makin banyak pekerjaan digantikan AI, saya memutuskan untuk membuat suatu program Python sederhana untuk menggantikan peran adik saya di permainan ini. Tentunya, program ini tidak perlu mengangkat batu ke kali jikalau ia kalah."
   ]
  },
  {
   "cell_type": "markdown",
   "metadata": {
    "colab_type": "text",
    "id": "prK4efJWvTiz"
   },
   "source": [
    "1. Lengkapilah fungsi `game()` berikut, yang mensimulasikan permainan di atas. Karena sifat permainan ini interaktif, tokoh \"**saya**\" perlu memasukkan input banyak batu yang ia ambil di setiap giliran. Gunakan contoh permainan di atas sebagai tampilan permainan (boleh tidak persis).\n",
    "\n",
    "  Asumsikan program memilih banyak batu yang diambil dengan peluang uniform. Akan tetapi, jika suatu saat batu yang tersisa di giliran program kurang dari $m$,  program  mengambil  semua  batu  di  gilirannya  (untuk memastikan program menang)."
   ]
  },
  {
   "cell_type": "code",
   "execution_count": null,
   "metadata": {
    "colab": {},
    "colab_type": "code",
    "id": "ndYHxOnbxK8E"
   },
   "outputs": [],
   "source": [
    "import random\n",
    "\n",
    "def game():\n",
    "    \"\"\"Simulasi permainan di pinggir sungai.\"\"\"\n",
    "\n",
    "    N = int(input(\"Banyak batu untuk bermain: \"))\n",
    "    M = int(input(\"Maksimum batu yang boleh diambil: \"))\n",
    "    print()\n",
    "\n",
    "    # Inisialisasi variabel yang diperlukan\n",
    "    curr_rocks = N                              # Jumlah batu yang tersisa\n",
    "    gil_saya = True                             # Penanda giliran saya\n",
    "\n",
    "    while curr_rocks > 0:\n",
    "        # Permainan akan terus bergulir, berganti-gantian sampai jumlah batu 0.\n",
    "        # Pada giliran pemain, dibaca jumlah batu yang akan diambil.\n",
    "        # Selain itu, kode mencegah potensi ValueError bila \n",
    "        # pemain memberi input non-bulat atau diluar batas yang diizinkan.\n",
    "        # \"Adik\" bermain sesuai strategi yang diminta di soal.    \n",
    "        if gil_saya:\n",
    "            amt = ''                \n",
    "            while not amt.isdigit():\n",
    "                amt = input(\"Giliran Anda! Jumlah batu yang akan Anda ambil: \")\n",
    "                if not amt.isdigit() or int(amt)>M or int(amt)<1:\n",
    "                    print(\"Input tidak valid! Ulangi atau temui pesan ini terus.\")\n",
    "                    amt = ''            \n",
    "            amt = int(amt)              \n",
    "        else:\n",
    "            if curr_rocks <= M:\n",
    "                amt = curr_rocks\n",
    "            else:\n",
    "                amt = random.randint(1, M)\n",
    "\n",
    "        curr_rocks -= amt\n",
    "        print(\"{} mengambil {} batu. Sisa batu: {}\".format(\"Saya\" if gil_saya else \"Adik\", amt, curr_rocks))\n",
    "        gil_saya = not gil_saya\n",
    "\n",
    "    print(\"\\n{} menang.\".format(\"Adik\" if gil_saya else \"Saya\"))"
   ]
  },
  {
   "cell_type": "markdown",
   "metadata": {
    "colab_type": "text",
    "id": "Rn7ISqcBZPXQ"
   },
   "source": [
    "2. Setelah lama memainkan permainan yang telah saya buat sebelumnya bersama adik saya, saya menemukan hal berikut: kalau $m+1$ habis membagi $n$, adik saya selalu memenangkan permainan ini - tak peduli bagaimanapun saya melangkah.\n",
    "\n",
    "  Dengan memodifikasi program Python yang dibuat sebelumnya, jika $m+1|n$, lengkapi fungsi `game_v2()` yang mengimitasi strategi kemenangan adik saya. Tentunya, di kasus ini program *tidak* memilih secara acak banyak batu yang diambil.\n",
    "  "
   ]
  },
  {
   "cell_type": "code",
   "execution_count": null,
   "metadata": {
    "colab": {},
    "colab_type": "code",
    "executionInfo": {
     "elapsed": 65073,
     "status": "ok",
     "timestamp": 1597433450570,
     "user": {
      "displayName": "Ian Sebastian",
      "photoUrl": "",
      "userId": "17980480949557469800"
     },
     "user_tz": -420
    },
    "id": "oE3d5afGuzuk"
   },
   "outputs": [],
   "source": [
    "import random\n",
    "\n",
    "def game_v2():\n",
    "    \"\"\"Simulasi permainan di pinggir sungai.\"\"\"\n",
    "\n",
    "    N = int(input(\"Banyak batu untuk bermain: \"))\n",
    "    M = int(input(\"Maksimum batu yang boleh diambil: \"))\n",
    "    print()\n",
    "  \n",
    "    # Inisialisasi variabel yang diperlukan\n",
    "    curr_rocks = N                              # Jumlah batu yang tersisa\n",
    "    gil_saya = True                             # Penanda giliran saya\n",
    "\n",
    "    while curr_rocks > 0:\n",
    "        # Permainan akan terus bergulir, berganti-gantian sampai jumlah batu 0.\n",
    "        # Pada giliran pemain, dibaca jumlah batu yang akan diambil.\n",
    "        # Selain itu, kode mencegah potensi ValueError bila \n",
    "        # pemain memberi input non-bulat atau diluar batas yang diizinkan.\n",
    "        # \"Adik\" bermain sesuai strategi yang diminta di soal.\n",
    "        if gil_saya:\n",
    "            amt = ''\n",
    "            while not amt.isdigit():\n",
    "                amt = input(\"Giliran Anda! Jumlah batu yang akan Anda ambil: \")\n",
    "                if not amt.isdigit() or int(amt) > M or int(amt) > curr_rocks:\n",
    "                    print(\"Input tidak valid! Ulangi input atau temui pesan ini terus.\")\n",
    "                    amt = ''\n",
    "            amt = int(amt)\n",
    "        else:\n",
    "            if curr_rocks <= M:\n",
    "                amt = curr_rocks\n",
    "            else:\n",
    "                amt = curr_rocks % (M+1)\n",
    "\n",
    "        curr_rocks -= amt\n",
    "        print(\"{} mengambil {} batu. Sisa batu: {}\".format(\"Saya\" if gil_saya else \"Adik\", amt, curr_rocks))\n",
    "        gil_saya = not gil_saya\n",
    "\n",
    "    print(\"\\n{} menang.\".format(\"Adik\" if gil_saya else \"Saya\"))"
   ]
  },
  {
   "cell_type": "code",
   "execution_count": null,
   "metadata": {
    "colab": {
     "base_uri": "https://localhost:8080/",
     "height": 422
    },
    "colab_type": "code",
    "executionInfo": {
     "elapsed": 120668,
     "status": "ok",
     "timestamp": 1597433506969,
     "user": {
      "displayName": "Ian Sebastian",
      "photoUrl": "",
      "userId": "17980480949557469800"
     },
     "user_tz": -420
    },
    "id": "JSbrTSR1ZPXY",
    "outputId": "44e1e88f-fc7f-483a-e9f9-983f38b13dac",
    "pycharm": {
     "name": "#%%\n"
    }
   },
   "outputs": [],
   "source": [
    "game_v2()"
   ]
  },
  {
   "cell_type": "markdown",
   "metadata": {
    "colab_type": "text",
    "id": "IyLf0kTpcvPI"
   },
   "source": [
    "3. Apa yang terjadi jika $m+1$ tak habis membagi $n$?"
   ]
  },
  {
   "cell_type": "markdown",
   "metadata": {
    "colab_type": "text",
    "id": "fKB2hRODMsQW"
   },
   "source": [
    "<h6>Jawab</h6>\n",
    "\n",
    "Misal $n$ habis dibagi $m+k$, dimana $0 \\leq k \\leq m-1, \\, k \\neq 1$. Maka pada giliran pertama,\n",
    "saya akan mengambil $p$ buah batu, dimana\n",
    "\n",
    "$n \\equiv p \\, (mod\\;m+1),$\n",
    "\n",
    "Maka, adik akan menjalankan gilirannya dengan jumlah batu tersisa yang habis dibagi $m+1$. Karena kita telah\n",
    "mengetahui bahwa akibat ini, saya punya strategi yang pasti memenangkan saya. (dengan selalu mengambil sejumlah $q$,\n",
    "dimana $q$ adalah sisa pembagian jlh batu sekarang dengan $m+1$. Alhasil, yang terakhir mengambil batu pasti saya.)\n",
    "Maka itu, saya akan selalu menang."
   ]
  },
  {
   "cell_type": "markdown",
   "metadata": {
    "colab_type": "text",
    "id": "4jHUcjKwvBRq"
   },
   "source": [
    "### 4. Labirin yang Hidup\n",
    "\n",
    "**Catatan**: Untuk menghayati soal ini, disarankan menyetel lagu berikut selagi mencoba menyelesaikan masalah yang ada. https://www.youtube.com/watch?v=Lr_nyEruW4g\n",
    "\n",
    "Tiba tiba, anda terbangun. Anda berada di sebuah labirin besar!\n",
    "\n",
    "![Oh tidak!](https://res.cloudinary.com/jerrick/image/upload/fl_progressive,q_auto,w_1024/q6hgjkv5yy4ilmgzpa1p.jpg)\n",
    "\n",
    "\n",
    "Setelah menghabiskan beberapa minggu berkelana dan bertahan hidup, anda menemukan beberapa keanehan dengan tempat ini. *Labirin ini hidup*. Dinding-dindingnya muncul dan hilang, bergerak kesana dan kemari. Terkadang dinding labirin ini hampir membunuh diri anda.\n",
    "\n",
    "Bagaimanapun, ada rasa bersyukur bisa tetap hidup sampai saat ini.\n",
    "\n",
    "Suatu hari, setelah mencari makanan, anda menemukan ruangan kecil di pinggir suatu dinding labirin. Penasaran, anda mencoba masuk... pintunya tidak terkunci. Di pojok ruangan, ada komputer menyala, dengan *wallpaper* bertuliskan \"TES-SKMT\". Entah apa artinya itu. Lalu anda melihat ada file Python berikut. \"Sepertinya ini penting\", lalu anda me-*run* program ini. "
   ]
  },
  {
   "cell_type": "code",
   "execution_count": null,
   "metadata": {
    "colab": {},
    "colab_type": "code",
    "executionInfo": {
     "elapsed": 1635,
     "status": "ok",
     "timestamp": 1597440113704,
     "user": {
      "displayName": "Ian Sebastian",
      "photoUrl": "",
      "userId": "17980480949557469800"
     },
     "user_tz": -420
    },
    "id": "3outc2EDQFVt"
   },
   "outputs": [],
   "source": [
    "## Kode ini akan mendownload file `maze.txt`\n",
    "## di storage session notebook ini. Legenda:\n",
    "##  0 = Dinding\n",
    "##  1 = Pagar\n",
    "##  2 = Jalan\n",
    "\n",
    "import requests\n",
    "\n",
    "\n",
    "data = requests.get(\"https://raw.githubusercontent.com/\"\n",
    "                    \"kekavigi/materi-tutor/master/TES/maze.txt\").text\n",
    "with open(\"maze.txt\", \"w\") as f: f.write(data)\n",
    "del data"
   ]
  },
  {
   "cell_type": "code",
   "execution_count": null,
   "metadata": {
    "colab": {
     "base_uri": "https://localhost:8080/",
     "height": 140
    },
    "colab_type": "code",
    "executionInfo": {
     "elapsed": 1606,
     "status": "ok",
     "timestamp": 1597440118841,
     "user": {
      "displayName": "Ian Sebastian",
      "photoUrl": "",
      "userId": "17980480949557469800"
     },
     "user_tz": -420
    },
    "id": "3kke6bzsZPXm",
    "outputId": "e2d33b47-b3b5-4f84-d47e-d2e4aa26037c",
    "pycharm": {
     "name": "#%%\n"
    }
   },
   "outputs": [],
   "source": [
    "maze = np.loadtxt(\"maze.txt\", dtype=str)\n",
    "maze = np.array([[int(elem) for elem in row] for row in maze])\n",
    "maze"
   ]
  },
  {
   "cell_type": "markdown",
   "metadata": {
    "colab_type": "text",
    "id": "yiST39eqSeUe"
   },
   "source": [
    "1. Ada firasat bahwa file `maze.txt` berisi peta labirin ini. Well, tidak ada salahnya mencoba membuktikan firasat. Bisakah anda membuat visualisasi peta dari file `maze.txt`?\n",
    "\n",
    "Oiya, selagi anda mencoba, tolong warnai:\n",
    "0. Dinding dengan warna hitam\n",
    "1. Pagar dengan warna biru, dan\n",
    "2. Jalan dengan warna putih."
   ]
  },
  {
   "cell_type": "code",
   "execution_count": null,
   "metadata": {
    "colab": {},
    "colab_type": "code",
    "executionInfo": {
     "elapsed": 1274,
     "status": "ok",
     "timestamp": 1597440220239,
     "user": {
      "displayName": "Ian Sebastian",
      "photoUrl": "",
      "userId": "17980480949557469800"
     },
     "user_tz": -420
    },
    "id": "yYtMTx1f2e9t"
   },
   "outputs": [],
   "source": [
    "from matplotlib.colors import ListedColormap\n",
    "import matplotlib as mpl\n",
    "import matplotlib.pyplot as plt\n",
    "import numpy as np"
   ]
  },
  {
   "cell_type": "code",
   "execution_count": null,
   "metadata": {
    "colab": {
     "base_uri": "https://localhost:8080/",
     "height": 657
    },
    "colab_type": "code",
    "executionInfo": {
     "elapsed": 955,
     "status": "ok",
     "timestamp": 1597440220242,
     "user": {
      "displayName": "Ian Sebastian",
      "photoUrl": "",
      "userId": "17980480949557469800"
     },
     "user_tz": -420
    },
    "id": "dcBZlD65S8Oh",
    "outputId": "84c15b10-ef7e-47f1-8bf0-e2088359276c"
   },
   "outputs": [],
   "source": [
    "cmap = ListedColormap([\"black\", \"blue\", \"white\"])\n",
    "\n",
    "_ = mpl.rcParams.update(mpl.rcParamsDefault)\n",
    "\n",
    "fig, ax = plt.subplots(figsize=(8,8))\n",
    "_ = ax.pcolormesh(maze, cmap=cmap)\n",
    "\n",
    "_ = plt.gca().invert_yaxis()     # Sehingga titik x = 0, y = 0 ada di pojok kiri atas, dan labirin tidak terbalik.\n",
    "_ = plt.xticks([])\n",
    "_ = plt.yticks([])\n",
    "_ = ax.set_aspect(1)             # Menampilkan labirin sebagai persegi\n",
    "plt.show()"
   ]
  },
  {
   "cell_type": "markdown",
   "metadata": {
    "colab_type": "text",
    "id": "k4b-4IAuZPXw"
   },
   "source": [
    "2. \"Hah! Apa arti peta ini?!\" Mata anda melolot melihat pagar di tepi labirin di peta, \"Tidak mungkin, tidak ada jalan keluar dari labirin ini\".\n",
    "\n",
    "  Lebih sial, anda tidak dapat memastikan di mana posisi anda di dalam peta (tapi apa gunanya, toh labirin ini *hidup*). Bagaimana pun juga anda ingin keluar dari labirin ini, itu pasti. Ada ide cemerlang terlintas dipikiran:\n",
    "\n",
    "  > \"*Kalau saya berlari bisa ke pagar labirin, saya bisa mencoba memanjatnya dan keluar!*\"\n",
    "\n",
    "  Tapi, apakah semua jalan di labirin saat ini, pasti menuju ke pagar labirin? Buatlah program yang mewarnai semua jalan yang terhubung ke pagar labirin dengan warna kuning."
   ]
  },
  {
   "cell_type": "code",
   "execution_count": null,
   "metadata": {
    "colab": {},
    "colab_type": "code",
    "executionInfo": {
     "elapsed": 809,
     "status": "ok",
     "timestamp": 1597440601143,
     "user": {
      "displayName": "Ian Sebastian",
      "photoUrl": "",
      "userId": "17980480949557469800"
     },
     "user_tz": -420
    },
    "id": "QWuUo2cdTN3G"
   },
   "outputs": [],
   "source": [
    "import numpy as np\n",
    "\n",
    "\n",
    "def fences_brute(maze2):\n",
    "    \"\"\"\n",
    "    # Cara: bruteforce sampai konvergen\n",
    "    Memeriksa setiap blok jalan pada labirin\n",
    "    Memeriksa arah langkah yang mungkin dari titik itu. Apakah ada pagar, di arah manapun? \n",
    "    Atau mungkin jalan yang sudah diketahui terhubung? Kalau ada, maka jelas jalan ini terhubung ke pagar.\n",
    "    Kemudian, apakah setelah melalui proses pencarian jalan terhubung ini, peta labirin menjadi lebih jelas\n",
    "    dibanding sebelumnya? Bila tidak (dalam artian, sama saja, sudah tidak ada yang bisa dicari), maka hentikan pencarian.\n",
    "\n",
    "    Parameters\n",
    "    ==========\n",
    "    maze : a NumPy array\n",
    "        array berisi peta labirin\n",
    "    \n",
    "    Returns\n",
    "    =======\n",
    "    maze2 : array berisi peta labirin yang sudah ditandai jalan-jalan yang dapat menuju pagar.\n",
    "\n",
    "    \"\"\"\n",
    "    maze2 = maze.copy()\n",
    "    search_still_needed = True\n",
    "    while search_still_needed:\n",
    "\n",
    "        mazeold = maze2.copy()\n",
    "\n",
    "        for i in range(1, 81):\n",
    "            for j in range(1, 81):\n",
    "                if maze2[i, j] == 2:\n",
    "                    if (np.append(maze2[i-1:i+2, j], maze2[i, j-1:j+2]) == 1).any() or \\\n",
    "                            (np.append(maze2[i-1:i+2, j], maze2[i, j-1:j+2]) == 3).any():\n",
    "                        maze2[i, j] = 3\n",
    "\n",
    "        search_still_needed = (mazeold != maze2).any()\n",
    "    return maze2\n",
    "\n",
    "\n",
    "def fences_bigbrain(maze):\n",
    "    \"\"\"\n",
    "    Setelah pemikiran singkat (dan menanyakan instruksi soal ke kak Keyka), disadari bahwa\n",
    "    kriteria sebuah jalan dapat menuju pagar ialah, selama jalan tersebut tidak terkunci dari \n",
    "    jalan lain, e.g. tertutupi dinding di 4 penjuru arah langkah. Kalau tidak, ya niscaya suatu\n",
    "    hari pasti sampai ke pagar, kalau tidak keburu mati seperti Jack Torrance di The Shining. RIP Jack.\n",
    "\n",
    "    Parameters\n",
    "    ==========\n",
    "    maze : a NumPy array\n",
    "        array berisi peta labirin\n",
    "    \n",
    "    Returns\n",
    "    =======\n",
    "    maze2 : NumPy array\n",
    "        array berisi peta labirin yang sudah ditandai jalan-jalan yang dapat menuju pagar.\n",
    "    \"\"\"\n",
    "    for i in range(1, 81):\n",
    "        for j in range(1, 81):\n",
    "            if maze2[i, j] == 2:\n",
    "                if (np.append(maze2[i-1:i+2, j], maze2[i, j-1:j+2]) == 0).sum() < 4:\n",
    "                    maze2[i, j] = 3\n",
    "    return maze2\n",
    "\n",
    "def fences(maze, mode='bigbrain'):\n",
    "    \"\"\"\n",
    "    Master function, menggabungkan kedua jenis fungsi yang kita lihat tadi.\n",
    "    Parameters\n",
    "    ==========\n",
    "    maze: NumPy array\n",
    "        array berisi peta labirin\n",
    "    mode: str, {'bigbrain', 'brute'}\n",
    "        jenis search yang ingin dilakukan\n",
    "    \"\"\"\n",
    "\n",
    "    modes = {\n",
    "        'brute': fences_brute,\n",
    "        'bigbrain': fences_bigbrain\n",
    "    }\n",
    "    return modes[mode](maze)"
   ]
  },
  {
   "cell_type": "code",
   "execution_count": null,
   "metadata": {
    "colab": {
     "base_uri": "https://localhost:8080/",
     "height": 657
    },
    "colab_type": "code",
    "executionInfo": {
     "elapsed": 961,
     "status": "ok",
     "timestamp": 1597440608796,
     "user": {
      "displayName": "Ian Sebastian",
      "photoUrl": "",
      "userId": "17980480949557469800"
     },
     "user_tz": -420
    },
    "id": "o941XtQEZPX6",
    "outputId": "e1c5004e-9be3-4992-b30f-bfac3a2a0dde",
    "pycharm": {
     "name": "#%%\n"
    }
   },
   "outputs": [],
   "source": [
    "from matplotlib.colors import ListedColormap\n",
    "\n",
    "cmap = ListedColormap([\"black\", \"blue\", \"white\", \"yellow\"])\n",
    "\n",
    "maze2 = np.empty((81, 81))\n",
    "maze2 = fences(maze)\n",
    "\n",
    "fig, ax = plt.subplots(figsize=(8,8))\n",
    "_ = ax.pcolormesh(maze2, cmap=cmap)\n",
    "\n",
    "\n",
    "_ = plt.gca().invert_yaxis()\n",
    "_ = plt.xticks([])\n",
    "_ = plt.yticks([])\n",
    "_ = ax.set_aspect(1)\n",
    "\n",
    "plt.show()"
   ]
  },
  {
   "cell_type": "markdown",
   "metadata": {
    "colab_type": "text",
    "id": "YG4-otbKWZ9-"
   },
   "source": [
    "### 5. Selamat Datang di Taman Sikomat\n",
    "\n",
    "**Catatan**: Untuk menghayati soal ini, disarankan menyetel lagu berikut: https://www.youtube.com/watch?v=Zk9iH-nunro\n",
    "\n",
    "Banyak hal yang bisa Anda lakukan selagi menunggu kembalinya Anda ke bangku perkuliahan (daring). Salah satu contoh paling efektif adalah tidur sembari membayangkan Anda memecahkan permasalahan TA Anda. Tentunya hal ini memiliki efek samping selepas Anda bangun.\n",
    "\n",
    "Suatu siang (setelah melewatkan kelas jam 7 pagi karena Anda bangun jam 9), Anda mengkaji ulang materi Sikomat demi melancarkan Anda di tes seleksi calon asisten. Anda membaca materi dinamika populasi, dan mengingat kembali persamaan Lotka-Volterra untuk memodelkan dua hewan - sebutlah Pemangsa dan Dimangsa.\n",
    "\n",
    "Anda membaca dalam hati, lalu menemukan beberapa asumsi yang \"tidak realistis\" dari persamaan tersebut. Sebagai seorang ca-matematikawan (atau aktuaris, atau data analis, atau semacamnya), Anda penasaran hal yang akan terjadi jika asumsi tersebut dihilangkan.\n",
    "\n",
    "Untuk soal di bawah, gunakan data berikut:\n",
    "- Populasi pemangsa awal adalah 20, dengan konstanta laju kelahiran dan kematian (dalam model Lotka-Volterra biasa) adalah 0.02 dan 1.02.\n",
    "- Populasi dimangsa awal adalah 200, dengan konstanta laju kelahiran dan kematian (dalam model Lotka-Volterra biasa) adalah 2.04 dan 0.04.\n",
    "\n",
    "0. Buatlah program Python yang memodelkan (dengan memakai persamaan beda) simulasi persamaan Lotka-Volterra terhadap data di atas. Simulasikan pula grafik populasi Pemangsa dan Dimangsa dalam *scatter-plot* dan *deret waktu* \n"
   ]
  },
  {
   "cell_type": "code",
   "execution_count": null,
   "metadata": {
    "colab": {
     "base_uri": "https://localhost:8080/",
     "height": 585
    },
    "colab_type": "code",
    "executionInfo": {
     "elapsed": 1789,
     "status": "ok",
     "timestamp": 1597437507786,
     "user": {
      "displayName": "Ian Sebastian",
      "photoUrl": "",
      "userId": "17980480949557469800"
     },
     "user_tz": -420
    },
    "id": "6aHM0yIcviNj",
    "outputId": "f3cdf910-d527-42bc-cfa8-9f6fdadcdbcf"
   },
   "outputs": [],
   "source": [
    "import matplotlib.pyplot as plt\n",
    "import numpy as np\n",
    "\n",
    "def lotka_vol(x0=200, y0=20, alpha=2.04, beta=0.04, gamma=1.02, delta=0.02, reps=200):\n",
    "    x = np.empty(reps)\n",
    "    y = np.empty(reps)\n",
    "    x[0] = x0\n",
    "    y[0] = y0\n",
    "    for i in range(1, reps):\n",
    "        x[i] = x[i-1] + 0.01*(alpha*x[i-1] - beta*x[i-1]*y[i-1])\n",
    "        y[i] = y[i-1] + 0.01*(delta*x[i-1]*y[i-1] - gamma*y[i-1])\n",
    "    return x, y\n",
    "\n",
    "\n",
    "prey, predator = lotka_vol(reps = 3000)\n",
    "\n",
    "plt.style.use(\"seaborn-ticks\")\n",
    "\n",
    "fig, ax = plt.subplots(nrows=2, figsize=(8,8))\n",
    "\n",
    "_ = fig.suptitle(\"The Lotka-Volterra Model - Eternal Growth\", fontsize = 20)\n",
    "\n",
    "_ = ax[0].plot(prey, label=\"prey\")\n",
    "_ = ax[0].plot(predator, label=\"predator\")\n",
    "_ = ax[0].set_title(\"\\n\\nGrowth of Populations of Predator and Prey Over Time\")\n",
    "_ = ax[0].set_xlabel(\"Time units\")\n",
    "_ = ax[0].set_ylabel(\"Population\")\n",
    "_ = ax[0].margins(0)\n",
    "_ = ax[0].legend()\n",
    "\n",
    "_ = ax[1].plot(prey, predator, linestyle = '--')\n",
    "_ = ax[1].set_xlabel(\"Prey\")\n",
    "_ = ax[1].set_ylabel(\"Predator\")\n",
    "_ = ax[1].set_title(\"Phase Plane of The Lotka-Volterra Predator-Prey Model\")\n",
    "\n",
    "_ = plt.tight_layout()\n",
    "_ = plt.show()"
   ]
  },
  {
   "cell_type": "markdown",
   "metadata": {
    "colab_type": "text",
    "id": "jRfDGIYCv_Ix"
   },
   "source": [
    "1. \"Asumsikan fungsi pertumbuhan hewan tanpa predasi mengikuti fungsi eksponensial.\" Sebentar... setelah memikirkan ulang, hal ini jelas tidak logis. Jadi apa yang perlu Anda lakukan?\n",
    "Dengan mengasumsikan fungsi pertumbuhan hewan mengikuti fungsi logistik (atau fungsi pertumbuhan populasi lain yang menurut Anda lebih masuk akal),  berikan sistem persamaan baru yang memodelkan populasi Pemangsa dan Dimangsa. \n",
    "\n",
    "Oh ya, kalian tahu kan kalau Collab mendukung $\\LaTeX$?\n",
    "\n"
   ]
  },
  {
   "cell_type": "markdown",
   "metadata": {
    "colab_type": "text",
    "id": "oVDHXRUPM5iF"
   },
   "source": [
    "Dengan memilih fungsi logistik untuk menggambarkan populasi seiring waktu, berarti perlu ditentukan bagi masing-masing hewan sebuah nilai populasi maksimum $M_{prey}$ dan $M_{pred}$ yang konstan.\n",
    "\n",
    "Untuk pemodelan kali ini, kita pilih $M_{prey} = 300$. Modelnya sendiri akan berbentuk:\n",
    "\n",
    "$$\n",
    "\\frac{dx}{dt} = \\alpha x \\left( 1 - \\frac{x}{M_{prey}}\\right) - \\beta xy, \\\\\n",
    "\\frac{dy}{dt} = \\gamma xy - \\delta y.\n",
    "$$\n",
    "\n",
    "Interpretasi\n",
    "\n",
    "Pada model awal, populasi mangsa berkembang karena kemampuan reproduksi, dan terancam karena populasi predator. Pada model baru ini, kita memasukkan faktor \n",
    "logistik yang berpotensial mengganggu perkembangan hewan (e.g. makanan tidak cukup, reproduksi tidak optimal). \n",
    "\n",
    "Sedangkan bagi predator, faktor yang mempengaruhi secara langsung populasinya adalah populasi mangsa -- logistik lingkungan tidak mempengaruhinya. Maka itu persamaannya tetap sama."
   ]
  },
  {
   "cell_type": "markdown",
   "metadata": {
    "colab_type": "text",
    "id": "AcA0PMZgM5_b"
   },
   "source": [
    "\n",
    "2. Perbaiki program Anda di bagian sebelumnya dengan persamaan baru yang Anda buat. Tentunya (atau mungkin sialnya?), konstanta lsju kematian dan perubahan kedua hewan perlu Anda ubah. Jika Anda tidak bisa mendapatkan nilai konstanta yang baru, tidak apa-apa - gunakan saja konstanta laju yang lama. (poin plus akan diberikan jika Anda berhasil mendapatkan konstanta baru.)"
   ]
  },
  {
   "cell_type": "code",
   "execution_count": null,
   "metadata": {
    "colab": {
     "base_uri": "https://localhost:8080/",
     "height": 585
    },
    "colab_type": "code",
    "executionInfo": {
     "elapsed": 1641,
     "status": "ok",
     "timestamp": 1597437461903,
     "user": {
      "displayName": "Ian Sebastian",
      "photoUrl": "",
      "userId": "17980480949557469800"
     },
     "user_tz": -420
    },
    "id": "GPze5v_SzJG7",
    "outputId": "70497a8e-eabb-4b25-a594-9a73eaeec4d1"
   },
   "outputs": [],
   "source": [
    "#Soal nomor 5.2\n",
    "import matplotlib.pyplot as plt\n",
    "import numpy as np\n",
    "\n",
    "def lotka_vol_log(x0=200, y0=20, alpha=2.04, beta=0.04, gamma=1.02, delta=0.02, m_prey=300, reps=200):\n",
    "    x = np.empty(reps)\n",
    "    y = np.empty(reps)\n",
    "    x[0] = x0\n",
    "    y[0] = y0\n",
    "    for i in range(1, reps):\n",
    "        x[i] = x[i-1] + 0.01*(alpha*x[i-1]*(1-x[i-1]/m_prey) - beta*x[i-1]*y[i-1])\n",
    "        y[i] = y[i-1] + 0.01*(delta*x[i-1]*y[i-1] - gamma*y[i-1])\n",
    "    return x, y\n",
    "\n",
    "\n",
    "prey, predator = lotka_vol_log(reps = 3000)\n",
    "\n",
    "plt.style.use(\"seaborn-ticks\")\n",
    "\n",
    "fig, ax = plt.subplots(nrows=2, figsize=(8,8))\n",
    "\n",
    "_ = fig.suptitle(\"The Logistic Lotka-Volterra Model - Battle of Attrition\", fontsize = 20)\n",
    "\n",
    "_ = ax[0].plot(prey, label=\"prey\")\n",
    "_ = ax[0].plot(predator, label=\"predator\")\n",
    "_ = ax[0].set_title(\"\\n\\nGrowth of Populations of Predator and Prey Over Time\")\n",
    "_ = ax[0].set_xlabel(\"Time units\")\n",
    "_ = ax[0].set_ylabel(\"Population\")\n",
    "_ = ax[0].margins(0)\n",
    "_ = ax[0].legend()\n",
    "\n",
    "_ = ax[1].plot(prey, predator, linestyle = '--')\n",
    "_ = ax[1].set_xlabel(\"Prey\")\n",
    "_ = ax[1].set_ylabel(\"Predator\")\n",
    "_ = ax[1].set_title(\"Phase Plane of The Logistic Lotka-Volterra Predator-Prey Model.\")\n",
    "\n",
    "_ = plt.tight_layout()\n",
    "_ = plt.show()"
   ]
  },
  {
   "cell_type": "markdown",
   "metadata": {
    "colab_type": "text",
    "id": "lWCiPR6ulZCB"
   },
   "source": [
    "### 6. Bunga Terakhir\n",
    "\n",
    "**Catatan**: Untuk menghayati soal ini, disarankan menyetel lagu berikut: https://www.youtube.com/watch?v=NBf5P9Qd6cs\n",
    "\n",
    "Bagaimana perasaan Anda setelah disajikan beberapa permasalahan di atas? (Tentu saja, ini bukan pertanyaan dari soal di bagian ini.)\n",
    "\n",
    "Sekarang, bayangkan Anda diterima sebagai asisten Sikomat untuk semester ini. Bayangkan Anda membuat soal praktikum untuk dinikmati satu shift Anda.\n",
    "\n",
    "Dengan menggunakan silabus Sikomat tahun lalu, buatlah setidaknya satu soal (lengkap dengan narasi soal dan jawaban) praktikum Sikomat. Anda bebas memilih bagian silabus yang akan Anda pakai, tapi lampirkan juga bagian yang Anda pakai. Oh ya, kreativitas sangat dicari di soal ini."
   ]
  },
  {
   "cell_type": "markdown",
   "metadata": {
    "colab_type": "text",
    "id": "638VQf4Dsrhb"
   },
   "source": [
    "Soal nomor 6\n",
    "Ide:\n",
    "* Minesweeper Board Generation\n",
    "* Digit-by-digit Square Root Calculation (With precision points) -- ngakar kuadrat ala anak SD\n",
    "* Conway's Game of Life. Staple example"
   ]
  },
  {
   "cell_type": "markdown",
   "metadata": {
    "colab_type": "text",
    "id": "l0C04uonZPYS",
    "pycharm": {
     "name": "#%% md\n"
    }
   },
   "source": [
    "<h2>Minesweeper - Cuma Anak 2000an yang Tau</h2>\n",
    "<strong>Materi: Multi-dimensional Array / Matrix, Dasar-dasar Python, Colormap, Random Generation</strong>\n",
    "\n",
    "Seharusnya kalian sudah tahu deh Minesweeper itu apa. Tau kan? Ya kan??...\n",
    "\n",
    "Oke, di permainan ini, pemain diberikan papan yang punya m x n kotak tertutup, dan dalam k kotak yang acak, ada bom di dalamnya.\n",
    " \n",
    "Saat pemain membuka kotak, skenario yang bisa terjadi meliputi:\n",
    "* Kotak tidak berisi bom, tapi di sekitar kotak (daerah 3x3 sekitar kotak) ada k buah bom. Maka isi kotak\n",
    "  akan ditandai dengan angka k.\n",
    "* Kotak tidak berisi bom, tidak juga sekitarnya. Aman...paling tidak disekitar 3x3 itu.\n",
    "* Kotak berisi bom, yang kemudian terpicu, sehingga meledak dan membunuhmu, mengakhiri permainan.\n",
    "\n",
    "Tujuan permainan ini adalah untuk membuka semua kotak yang tidak berisi bom.\n",
    "\n",
    "Namun... jangan khawatir! Tentu kami nggak berniat meminta kalian\n",
    "membuat game ini dengan keterbatasan2 yang kita hadapi -- seperti coding cuma pake\n",
    "Google Colab. Kami hanya ingin melihat sebuah papan Minesweeper yang dimensi dan jumlah bomnya bisa ditentukan.\n",
    "Patut diperhatikan bahwa:\n",
    "* Bom terdistribusi acak, dan\n",
    "* Jumlah bom pasti lebih sedikit dari jumlah kotak di lapangan.\n",
    "\n",
    "Outputnya berupa sebuah NumPy array berukuran m x n, dimana nilainya adalah:\n",
    "* 0-9 : jumlah bom disekitar\n",
    "* -1  : bom!\n",
    "\n",
    "Buatlah sebuah papan 10 x 10 yang berisi 15 bom!\n",
    "\n",
    "Bonus: tampilkanlah lapangan Minesweeper yang kalian buat, dengan hanya menampilkan kotak berangka sebagai warna yang lain dari background, dan dengan menampilkan angka.\n",
    "Gunakanlah fungsi plot seaborn.heatmap() untuk membantu Anda. <br>\n",
    "<b>Bonus lebih bila Anda memakai matplotlib, dan yang diwarnai angkanya, bukan kotaknya.</b>"
   ]
  },
  {
   "cell_type": "code",
   "execution_count": null,
   "metadata": {
    "colab": {},
    "colab_type": "code",
    "executionInfo": {
     "elapsed": 2238,
     "status": "ok",
     "timestamp": 1597442349368,
     "user": {
      "displayName": "Ian Sebastian",
      "photoUrl": "",
      "userId": "17980480949557469800"
     },
     "user_tz": -420
    },
    "id": "tgI0tZ7ntIFQ"
   },
   "outputs": [],
   "source": [
    "import numpy as np\n",
    "import matplotlib.pyplot as plt\n",
    "import seaborn as sns"
   ]
  },
  {
   "cell_type": "code",
   "execution_count": null,
   "metadata": {
    "colab": {},
    "colab_type": "code",
    "executionInfo": {
     "elapsed": 2182,
     "status": "ok",
     "timestamp": 1597442349374,
     "user": {
      "displayName": "Ian Sebastian",
      "photoUrl": "",
      "userId": "17980480949557469800"
     },
     "user_tz": -420
    },
    "id": "FP4yz4dGZPYU",
    "pycharm": {
     "name": "#%%\n"
    }
   },
   "outputs": [],
   "source": [
    "def gen_minesweeper_field(size=(10,10), mines=15):\n",
    "    width, len = size\n",
    "    while width*len <= mines:\n",
    "        try:\n",
    "            mines = int(input(\"Amount of mines exceeds playing area. Please specify a new amount: \"))\n",
    "        except ValueError:\n",
    "            print(\"Board generation failed: Amount of mines specified exceeds playing area.\")\n",
    "\n",
    "    mine = -1\n",
    "\n",
    "    np.random.seed(np.random.randint(101108))\n",
    "\n",
    "    field = np.zeros(size)\n",
    "    for i in range(mines):\n",
    "        mine_x, mine_y = np.random.randint(width), np.random.randint(len)\n",
    "        while field[mine_x, mine_y] == mine:\n",
    "            mine_x, mine_y = np.random.randint(width), np.random.randint(len)\n",
    "        field[mine_x, mine_y] = mine\n",
    "\n",
    "    for i in range(width):\n",
    "        for j in range(len):\n",
    "            if field[i, j] != mine:\n",
    "                dbound = i-1 if i >= 1 else i\n",
    "                ubound = i+2 if i <= width-2 else i+1\n",
    "                lbound = j-1 if j >= 1 else j\n",
    "                rbound = j+2 if j <= len-2 else j+1\n",
    "\n",
    "                neigh = field[dbound:ubound ,lbound:rbound]\n",
    "                field[i, j] = (neigh == mine).sum()\n",
    "    return field\n"
   ]
  },
  {
   "cell_type": "code",
   "execution_count": null,
   "metadata": {
    "colab": {
     "base_uri": "https://localhost:8080/",
     "height": 193
    },
    "colab_type": "code",
    "executionInfo": {
     "elapsed": 2456,
     "status": "ok",
     "timestamp": 1597442349337,
     "user": {
      "displayName": "Ian Sebastian",
      "photoUrl": "",
      "userId": "17980480949557469800"
     },
     "user_tz": -420
    },
    "id": "5Fg1XRm2tMLl",
    "outputId": "e62e264a-61fb-4aaa-c788-9a5d8cf2346e"
   },
   "outputs": [],
   "source": [
    "minefield = gen_minesweeper_field(mines = 40)\n",
    "minefield"
   ]
  },
  {
   "cell_type": "code",
   "execution_count": null,
   "metadata": {
    "colab": {
     "base_uri": "https://localhost:8080/",
     "height": 406
    },
    "colab_type": "code",
    "executionInfo": {
     "elapsed": 2315,
     "status": "ok",
     "timestamp": 1597442349353,
     "user": {
      "displayName": "Ian Sebastian",
      "photoUrl": "",
      "userId": "17980480949557469800"
     },
     "user_tz": -420
    },
    "id": "5k6fu94rZPYg",
    "outputId": "360da737-7250-4a5e-d05b-4626fdd63b49",
    "pycharm": {
     "name": "#%%\n"
    }
   },
   "outputs": [],
   "source": [
    "# XKCD chosen colors.\n",
    "xkcd_cmap = sns.xkcd_palette([\"windows blue\", \"amber\", \"dark red\", \"faded green\", \"dark pink\", \"dusty purple\", \"lilac\", \"cyan\", \"red\"])\n",
    "\n",
    "# Visualizing the board\n",
    "sns.set_style(\"darkgrid\")\n",
    "_ = sns.heatmap(minefield, annot=True, \n",
    "                mask=minefield<=0,\n",
    "                cbar=None,\n",
    "                cmap = xkcd_cmap, \n",
    "                vmin=1, vmax=9,\n",
    "                square = True,\n",
    "                linewidths = .5)\n",
    "_ = plt.xticks([])\n",
    "_ = plt.yticks([])\n",
    "_ = plt.gca().set_aspect(1)\n",
    "\n",
    "plt.show()"
   ]
  },
  {
   "cell_type": "code",
   "execution_count": null,
   "metadata": {
    "colab": {
     "base_uri": "https://localhost:8080/",
     "height": 478
    },
    "colab_type": "code",
    "executionInfo": {
     "elapsed": 964,
     "status": "ok",
     "timestamp": 1597444888970,
     "user": {
      "displayName": "Ian Sebastian",
      "photoUrl": "",
      "userId": "17980480949557469800"
     },
     "user_tz": -420
    },
    "id": "GwI7D34VAQqw",
    "outputId": "84433d7b-6687-4f52-b04c-2f404f1f998f"
   },
   "outputs": [],
   "source": [
    "from matplotlib.colors import ListedColormap\n",
    "\n",
    "plt.style.use(\"default\")\n",
    "\n",
    "mapcolor = ListedColormap([ \"#EEEEEE\", \"#FFFFFF\"])\n",
    "cmap = plt.get_cmap(\"Set1\")(np.arange(8))\n",
    "\n",
    "fig, ax = plt.subplots()\n",
    "\n",
    "\n",
    "_ = plt.pcolormesh(minefield,\n",
    "                   cmap = mapcolor,                         # Membangun colormap untuk arsiran kotak - \n",
    "                   vmin=-10, vmax=10,                       # bila kotak kosong atau berisi bom,\n",
    "                   edgecolors='#000000',                    # warna arsiran lebih gelap.\n",
    "                   linewidth=.2)\n",
    "\n",
    "for y in range(minefield.shape[0]):                         # Menginput teks pada masing masing kotak.\n",
    "    for x in range(minefield.shape[1]):\n",
    "        if minefield[y, x] > 0:\n",
    "            plt.text(x + 0.5, y + 0.5, int(minefield[y, x]),\n",
    "                    horizontalalignment='center',\n",
    "                    verticalalignment='center',\n",
    "                    fontsize=16,\n",
    "                    color = cmap[int(minefield[y, x])-1])\n",
    "\n",
    "_ = plt.xticks([i for i in range(10)])\n",
    "_ = plt.yticks([i for i in range(10)])\n",
    "\n",
    "\n",
    "_ = ax.set_aspect(1)\n",
    "_ = ax.invert_yaxis()\n",
    "\n",
    "_ = fig.suptitle(\"This Ain't No Sudoku,\")\n",
    "_ = ax.set_title(\"It's Minesweeper...\\nAll the Numbered Tiles on the Board!\", fontsize=8)\n",
    "plt.show()"
   ]
  },
  {
   "cell_type": "markdown",
   "metadata": {
    "colab_type": "text",
    "id": "FfN6eA5CZPYo"
   },
   "source": [
    "<h3>Throwback SD : Akar Kuadrat!</h3>\n",
    "<h6>Bahan : Dasar Pemrograman, Pengulangan</h6>\n",
    "Ufifa adalah seorang anak gadis jenius kelas 5 SD. \n",
    "Ceritanya Ufifa baru diajari di kelas tentang akar kuadrat.\n",
    "Prosesnya simpel, tapi panjang dan kadang rada njelimet jadi teman-teman Ufifa\n",
    "suka bingung, tapi Ufifa biasa-biasa saja sih. Karena itu teman-temannya jadi \n",
    "nanya terus sama Ufifa buat nyocokin jawaban, tapi lama-lama Ufifa jadi malas\n",
    "ngerjain satu-persatu, jenuh banget. Kebetulan Ufifa baru saja belajar Python\n",
    "lewat internet, jadi dia memutuskan buat bikin program yang bisa menghitung jawaban\n",
    "dan prosedur pencariannya langkah demi langkah.  \n",
    "\n",
    "<br> Kamu adalah Afifu, orang yang mengklaim sebagai rival terberat Ufifa tapi naksir\n",
    "dengan dia secara bersamaan. Setelah mendengar bahwa Ufifa berniat membuat program\n",
    "ini, dorongan hormonal remaja mendorongmu untuk bergegas membuat program yang sama sebelum\n",
    "Ufifa menyelesaikannya, supaya kamu bisa membantu Ufifa, sekaligus merasakan kemenangan\n",
    "yang langka atas dia.\n",
    "\n",
    "<h5>Contoh Input</h5>\n",
    "<pre><code>Angka yang akan dicari akarnya: 2\n",
    "Berapa angka dibelakang koma? 4\n",
    "</pre></code>\n",
    "\n",
    "<h5>Contoh Output</h5><pre><code>PROCEDURE\n",
    "=========\n",
    "1. 2 - (1 x 1). Hasil sejauh ini: 1\n",
    "Sudah kena koma.\n",
    "2. 100 - (24 x 4). Hasil sejauh ini: 1.4\n",
    "3. 400 - (281 x 1). Hasil sejauh ini: 1.41\n",
    "4. 11900 - (2824 x 4). Hasil sejauh ini: 1.414\n",
    "5. 60400 - (28282 x 2). Hasil sejauh ini: 1.4142\n",
    "6. 383600 - (282841 x 1). Hasil sejauh ini: 1.41421\n",
    "7. 10075900 - (2828423 x 3). Hasil sejauh ini: 1.414213\n",
    "8. 159063100 - (28284265 x 5). Hasil sejauh ini: 1.4142135\n",
    "9. 1764177500 - (282842706 x 6). Hasil sejauh ini: 1.41421356\n",
    "10. 6712126436 - (2828427122 x 2). Hasil sejauh ini: 1.414213562\n",
    "11. 105527219283 - (28284271243 x 3). Hasil sejauh ini: 1.4142135623\n",
    "Hasilnya, akar 2, dengan presisi maksimal 10 angka penting dibelakang koma adalah 1.4142135623.\n",
    "</code></pre>\n",
    "\n",
    "<br> Bonus: Program mengetahui bila nilai akar punya jumlah angka dibelakang 0 lebih sedikit dari yang diminta,\n",
    "dan tidak menampilkan deretan 0 tidak penting di belakang.\n",
    "\n",
    "<h3>Contoh Bonus Input</h3>\n",
    "<pre><code>Angka yang akan dicari akarnya: 6.25\n",
    "Berapa angka dibelakang koma? 10\n",
    "</pre></code>\n",
    "<h3>Contoh Bonus Output</h3>\n",
    "<pre><code>PROCEDURE\n",
    "=========\n",
    "1. 6 - (2 x 2). Hasil sejauh ini: 2\n",
    "Sudah kena koma.\n",
    "2. 225 - (45 x 5). Hasil sejauh ini: 2.5\n",
    "Sudah sampai nol, menghentikan operasi.\n",
    "Hasilnya, akar 6.25, dengan presisi maksimal 10 angka penting dibelakang koma adalah 2.5.</pre></code>\n",
    "\n",
    "<h5>Halaman yang Terkait</h5>\n",
    "<a href=https://en.wikipedia.org/wiki/Methods_of_computing_square_roots#Digit-by-digit_calculation>Square roots - Digit-by-digit method </a>"
   ]
  },
  {
   "cell_type": "code",
   "execution_count": null,
   "metadata": {
    "colab": {},
    "colab_type": "code",
    "id": "D7ldC0EpZPYp",
    "pycharm": {
     "name": "#%%\n"
    }
   },
   "outputs": [],
   "source": [
    "def decimal_len(x):\n",
    "    \"\"\"Counts the length of a decimal number, i.e. the greatest power of 10 smaller than x.\"\"\"\n",
    "    r = 1\n",
    "    while x >= 10:\n",
    "        x /= 10\n",
    "        r += 1\n",
    "    return r\n",
    "\n",
    "\n",
    "def decimal_sqrt(p, depth=0):\n",
    "    \"\"\"\n",
    "    Performs a digit-by-digit decimal estimate of the square root of p, down to a specifyied digits behind decimal point.\n",
    "    :param p: float\n",
    "        A decimal number whose square root is being estimated.\n",
    "\n",
    "    :param depth: int\n",
    "        Number of floating points to calculate.\n",
    "\n",
    "    :return: float\n",
    "        Square root estimate of p.\n",
    "    \"\"\"\n",
    "    dlen = decimal_len(p)\n",
    "    res = 0\n",
    "    procedure = []\n",
    "    for i in range ((dlen-1) // 2, -depth-1, -1):\n",
    "        pos = p / 100**i\n",
    "\n",
    "        r = 20 * res\n",
    "        s = 0\n",
    "        while ((r+s) * s) <= pos:\n",
    "            s += 1\n",
    "        s -= 1\n",
    "\n",
    "        res = 10*res + s\n",
    "        p -= (r+s)*s * 100**i\n",
    "        procedure.append((pos, r, s))\n",
    "    result = str(res)[:dlen] + \".\" + str(res)[dlen:]\n",
    "    return result, procedure, dlen\n",
    "\n",
    "\n",
    "def disp_result(p, depth):\n",
    "    \"\"\"\n",
    "    Fungsi tanpa output, memproses perhitungan dari fungsi decimal_sqrt menjadi bentuk\n",
    "    yang diminta, kemudian menampilkannya.\n",
    "\n",
    "    Parameters\n",
    "    ==========\n",
    "    :param p: float\n",
    "    A decimal number whose square root is being estimated.\n",
    "\n",
    "    :param depth: int\n",
    "        Number of floating points to calculate.\n",
    "\n",
    "    Returns\n",
    "    =======\n",
    "    None.\n",
    "    \"\"\"\n",
    "\n",
    "    result, procedure, dlen = decimal_sqrt(p, depth)\n",
    "    print(\"PROCEDURE\\n\"+\"=\"*9)\n",
    "    blm_lewat_koma = True\n",
    "    for i in range(len(procedure)):\n",
    "        pos, r, s = procedure[i]\n",
    "\n",
    "        if s == 0:\n",
    "            print(\"Sudah sampai nol, menghentikan operasi.\")\n",
    "            break\n",
    "\n",
    "        if i > dlen-1 and blm_lewat_koma:\n",
    "            blm_lewat_koma = False\n",
    "            print(\"Sudah kena koma.\")\n",
    "\n",
    "        result_to_display = result[:i+1] if blm_lewat_koma else result[:i+2]\n",
    "        print(f\"{i+1}. {int(pos)} - ({r + s} x {s}). Hasil sejauh ini: {result_to_display}\")\n",
    "    print(f\"Hasilnya, akar {p}, dengan presisi maksimal {depth} angka penting dibelakang koma adalah {result_to_display}.\")\n",
    "\n",
    "    return None"
   ]
  },
  {
   "cell_type": "code",
   "execution_count": null,
   "metadata": {
    "colab": {},
    "colab_type": "code",
    "id": "uxxJQsmUZPYv",
    "outputId": "f34dfd9b-c52d-43ee-a466-d7b5ad798e28",
    "pycharm": {
     "name": "#%%\n"
    }
   },
   "outputs": [],
   "source": [
    "disp_result(6.25, 10)"
   ]
  },
  {
   "cell_type": "markdown",
   "metadata": {},
   "source": [
    "<h3>Conway's Game of Life</h3>\n",
    "\n",
    "Conway's Game of Life (selanjutnya disingkat CGoL) adalah salah satu model <i>cellular automata</i> yang paling terkenal, diciptakan oleh matematikawan John Conway pada tahun 1970. Ruang kehidupan adalah sebuah kotak ber-grid, dan setiap grid dikelilingi 8 tetangga. Pada setiap iterasi, hal-hal ini terjadi:<br>\n",
    "* Jika jumlah tetangga sebuah sel kurang dari 2, sel ini akan mati karena terlalu sepi.\n",
    "* Jika jumlah tetangga 2 atau 3, sel ini tetap hidup.\n",
    "* Jika jumlah tetangga lebih dari 3, sel ini akan mati karena overpopulasi.\n",
    "* Jika sel mati dan jumlah tetangga tepat 3, sel ini akan hidup karena terjadi reproduksi.\n",
    "\n",
    "Tugas Anda:\n",
    "\n",
    "* <a href = https://en.wikipedia.org/wiki/Conway%27s_Game_of_Life> Selidikilah</a> struktur yang dapat terjadi pada permainan ini. \n",
    "* Buatlah model yang mempunyai sebuah penta-decathlon.\n",
    "* Coba cari arti Methuselah dalam <i>cellular automaton</i>. Modelkan salah satunya sampai iterasi dimana dia stabil, dalam artian tidak lagi bertumbuh.\n"
   ]
  },
  {
   "cell_type": "code",
   "execution_count": null,
   "metadata": {
    "colab": {},
    "colab_type": "code",
    "executionInfo": {
     "elapsed": 1815,
     "status": "ok",
     "timestamp": 1597451972847,
     "user": {
      "displayName": "Ian Sebastian",
      "photoUrl": "",
      "userId": "17980480949557469800"
     },
     "user_tz": -420
    },
    "id": "UFn0aLjbJpvd"
   },
   "outputs": [],
   "source": [
    "import numpy as np\n",
    "\n",
    "def gen_conway(nrow=101, ncol=108):\n",
    "    \"\"\"Generates a CGoL field.\"\"\"\n",
    "\n",
    "    field = np.zeros((nrow, ncol))\n",
    "    \n",
    "    \n",
    "    def gen_block(field):\n",
    "        \"\"\"Builds block\"\"\"\n",
    "\n",
    "        y, x = np.random.randint(field.shape[0] - 2), np.random.randint(field.shape[1] - 2)\n",
    "        while (field[y:y+2, x:x+2] == 1).any():\n",
    "            y, x = np.random.randint(field.shape[0] - 2), np.random.randint(field.shape[1] - 2)\n",
    "        field[y:y+2, x:x+2] = 1\n",
    "        return field\n",
    "\n",
    "\n",
    "    def gen_blinker(field):\n",
    "        \"\"\"Builds blinker\"\"\"\n",
    "\n",
    "        y, x = np.random.randint(field.shape[0] - 3), np.random.randint(field.shape[1] - 3)\n",
    "        while (field[y:y+2, x:x+2] == 1).any():\n",
    "            y, x = np.random.randint(field.shape[0] - 3), np.random.randint(field.shape[1] - 3)\n",
    "        field[y:y+3, x] = 1\n",
    "        return field\n",
    "\n",
    "    def gen_r_pento(field):\n",
    "        \"\"\"Generates an R-pentomino, a Methuselah object. Recommended to use this alone in a wide field for best display\"\"\"\n",
    "        y, x = field.shape[0] // 2, field.shape[1] // 2\n",
    "        while (field[y:y+2, x:x+2] == 1).any():\n",
    "            y, x = np.random.randint(field.shape[0] - 3), np.random.randint(field.shape[1] - 3)\n",
    "        field[y:y+3, x+1] = 1\n",
    "        field[y+1, x] = 1\n",
    "        field[y, x+2] = 1\n",
    "        return field\n",
    "    \n",
    "    field = gen_r_pento(field)\n",
    "\n",
    "    return field\n",
    "\n",
    "\n",
    "def conway_step(field):\n",
    "    \"\"\"Evolves a CGoL field by one step.\"\"\"\n",
    "\n",
    "    field_new = field.copy()\n",
    "    for y in range(field.shape[0]):\n",
    "        for x in range(field.shape[1]):\n",
    "            dbound = y-1 if y >= 1 else y\n",
    "            ubound = y+2 if y <= field.shape[0]-2 else y+1\n",
    "            lbound = x-1 if x >= 1 else x\n",
    "            rbound = x+2 if x <= field.shape[1]-2 else x+1\n",
    "\n",
    "            neigh = field[dbound:ubound, lbound:rbound]\n",
    "\n",
    "            if field[y, x] == 0:\n",
    "                field_new[y, x] = 1 if neigh.sum() == 3 else 0\n",
    "            else:\n",
    "                field_new[y, x] = 1 if (neigh.sum() == 3) or (neigh.sum() == 4) else 0\n",
    "    return field_new\n",
    "            "
   ]
  },
  {
   "cell_type": "code",
   "execution_count": null,
   "metadata": {
    "colab": {},
    "colab_type": "code",
    "id": "ar1GHp1uVqBW"
   },
   "outputs": [],
   "source": [
    "import matplotlib.animation as animation\n",
    "\n",
    "field = gen_conway()\n",
    "\n",
    "fig = plt.figure()\n",
    "_ = fig.gca().set_aspect(1)\n",
    "_ = fig.gca().invert_yaxis()\n",
    "_ = fig.gca().set_xticks([])\n",
    "_ = fig.gca().set_yticks([])\n",
    "\n",
    "methuselah = 1103\n",
    "\n",
    "fieldmap = ListedColormap([\"black\", \"white\"])\n",
    "\n",
    "ims = []\n",
    "for add in range(methuselah):\n",
    "    field = conway_step(field)\n",
    "    ims.append(\n",
    "        (plt.pcolor(field,\n",
    "                        cmap=fieldmap,\n",
    "                        edgecolor=\"#DDDDDD\",\n",
    "                        linewidth=.05),\n",
    "        )\n",
    "    )\n",
    "\n",
    "life_anim = animation.ArtistAnimation(fig, ims, interval=10, repeat_delay=1000,\n",
    "                                   blit=True)"
   ]
  },
  {
   "cell_type": "code",
   "execution_count": null,
   "metadata": {
    "colab": {
     "base_uri": "https://localhost:8080/",
     "height": 500
    },
    "colab_type": "code",
    "executionInfo": {
     "elapsed": 90576,
     "status": "ok",
     "timestamp": 1597451829005,
     "user": {
      "displayName": "Ian Sebastian",
      "photoUrl": "",
      "userId": "17980480949557469800"
     },
     "user_tz": -420
    },
    "id": "rWNpogU-amKy",
    "outputId": "e5fee6e6-8905-44ab-d03f-37a6304e1650",
    "pycharm": {
     "name": "#%%\n"
    }
   },
   "outputs": [],
   "source": [
    "HTML(life_anim.to_html5_video())"
   ]
  }
 ],
 "metadata": {
  "colab": {
   "collapsed_sections": [],
   "name": "asprak_sikomat_10118024",
   "provenance": [
    {
     "file_id": "https://github.com/iansebastian/iansebastian.github.io/blob/master/coding%20math/asprak_sikomat_2020.ipynb",
     "timestamp": 1597432919448
    }
   ]
  },
  "kernelspec": {
   "display_name": "Python 3",
   "language": "python",
   "name": "python3"
  },
  "language_info": {
   "codemirror_mode": {
    "name": "ipython",
    "version": 3
   },
   "file_extension": ".py",
   "mimetype": "text/x-python",
   "name": "python",
   "nbconvert_exporter": "python",
   "pygments_lexer": "ipython3",
   "version": "3.7.6"
  }
 },
 "nbformat": 4,
 "nbformat_minor": 1
}
