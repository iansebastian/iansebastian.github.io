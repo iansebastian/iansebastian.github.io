{
  "nbformat": 4,
  "nbformat_minor": 0,
  "metadata": {
    "colab": {
      "name": "asprak_sikomat_2020",
      "provenance": [],
      "collapsed_sections": []
    },
    "kernelspec": {
      "name": "python3",
      "display_name": "Python 3"
    }
  },
  "cells": [
    {
      "cell_type": "markdown",
      "metadata": {
        "id": "fPlFP-5ghc_t",
        "colab_type": "text"
      },
      "source": [
        "# **MA2151 Simulasi dan Komputasi Matematika**\n",
        "## **Seleksi Asisten Praktikum**\n",
        "\n",
        "\n",
        "## Teknis Pengerjaan\n",
        "1. Buat salinan dari *notebook* ini ke Google Drive anda, dan *rename* berkas menjadi `asprak_sikomat_NIM.ipynb`.\n",
        "2. Kumpulkan hasil pekerjaan anda (dalam format .ipynb dan sesuai dengan format dokumen ini) ke LINE Afif (mafifapip) sebelum **Sabtu, 15 Agustus 2020, jam 11:59 WIB**. Harap menuliskan seluruh pekerjaan Anda dalam berkas yang Anda kirimkan.\n",
        "3. Beberapa parameter yang akan digunakan dalam penilaian ini adalah:\n",
        "  * Tingkat kesuksesan.\n",
        "  * Kompleksitas waktu dan/atau kode.\n",
        "  * Keterbacaan (termasuk komentar)\n",
        "  * Argumen matematika\n",
        "  * Kekreatifan (terutama untuk nomor 6)\n",
        "\n",
        "    \n",
        "*Mengingat tim penseleksi bukan cenayang digital, sebaiknya Anda memberikan komentar di program yang Anda buat. Walaupun tidak dipaksakan, menulis mengikuti gaya penulisan Python (misal [PEP 8](https://www.python.org/dev/peps/pep-0008/)) lebih baik.*\n"
      ]
    },
    {
      "cell_type": "markdown",
      "metadata": {
        "id": "fCfzTTzSmknZ",
        "colab_type": "text"
      },
      "source": [
        "### 1. Rekursi Sederhana\n",
        "\n",
        "**Catatan**: Untuk menghayati soal ini, disarankan menyetel lagu berikut: https://www.youtube.com/watch?v=FFYAZ9KxWnI dan https://www.youtube.com/watch?v=fwGuv2vmoVg . Tentunya, tidak ada konsekuensi (nilai plus ataupun minus) yang Anda dapatkan jikalau Anda menyetel, atau tidak menyetel lagu tersebut - saya hanya ingin berbagi rekomendasi saja.\n",
        "\n",
        "Definisikan barisan $a_i$ sebagai berikut: $a_1=a_2=1$ dan $\\dfrac{1}{a_{n+2}}=\\dfrac{1}{a_{n+1}}+\\dfrac{1}{a_n}$ untuk semua $n$ bilangan bulat positif. Lengkapilah fungsi `ratio(i)` yang dapat menentukan, dengan ketepatan 10 digit di belakang koma, nilai $\\dfrac{a_{i+1}}{a_{i}}$, untuk $1\\leq i \\leq 10000$.\n"
      ]
    },
    {
      "cell_type": "code",
      "metadata": {
        "id": "5yYbvI9Ymtr3",
        "colab_type": "code",
        "colab": {}
      },
      "source": [
        "## Anda juga dapat menulis kode di sini.\n",
        "\n",
        "\n",
        "def ratio(i):\n",
        "  \"Menghitung hasil a_{i+1}/a{i}\"\n",
        "\n",
        "  ## Lengkapi kode di fungsi ini.\n"
      ],
      "execution_count": null,
      "outputs": []
    },
    {
      "cell_type": "markdown",
      "metadata": {
        "id": "TdyIb7prtHOg",
        "colab_type": "text"
      },
      "source": [
        "### 2. Selamat Datang di Omonib\n",
        "\n",
        "**Catatan**: Untuk menghayati soal ini, disarankan menyetel lagu berikut: https://www.youtube.com/watch?v=b8ztR3KXR0g\n",
        "\n",
        "Halo nama saya Dibu Setiawan, saya seorang treder profesyonal... lupakan saja.\n",
        "\n",
        "Saya sekarang sedang mencoba membuat (para praktikan membuat) animasi pergerakan saham (seperti di iklan omonib yang dulu viral), namun sialnya saya hanya dapat menggunakan Python untuk dapat melakukan hal ini. Bisabantu saya?\n",
        "\n",
        "**Catatan**: Saham yang dimodelkan TIDAK diambil dari data saham di dunia nyata  -  melainkan  dimodelkan  secara  matematis.   Jelaskan  secara  singkat pemodelan yang dipakai dalam jawaban Anda.\n",
        "\n"
      ]
    },
    {
      "cell_type": "code",
      "metadata": {
        "id": "dRwdRCVauAFC",
        "colab_type": "code",
        "colab": {}
      },
      "source": [
        "## Tulis module yang anda perlukan di sini, jika ada.\n",
        "\n",
        "\n",
        "## Tuliskan jawaban anda disini"
      ],
      "execution_count": null,
      "outputs": []
    },
    {
      "cell_type": "code",
      "metadata": {
        "id": "Ve_AMEGvAyAE",
        "colab_type": "code",
        "colab": {}
      },
      "source": [
        "## Anda juga bisa menambah cell, jika diperlukan"
      ],
      "execution_count": null,
      "outputs": []
    },
    {
      "cell_type": "markdown",
      "metadata": {
        "id": "knWNSdnFukHA",
        "colab_type": "text"
      },
      "source": [
        "### 3. Kenangan di Pinggir Sungai\n",
        "\n",
        "Pandemi memang menyebalkan. Kelas saya libur, kelas adik saya libur. Kami pun membuat permainan baru guna mengisi waktu luang tanpa bertemu teman-teman sepantaran kami.\n",
        "\n",
        "Pertama, saya mengambil $n$ buah batu dari sungai, dan meletakkan mereka di halaman belakang rumah. Saya dan adik saya secara bergiliran mengambil $1,2,3,\\dotsc$ atau $m$ buah batu (dengan saya selalu melangkah pertama kali). Pemain yang menghabiskan batu memenangkan permainan tersebut, dan pemain yang kalah harus mengembalikan bebatuan tersebut ke pinggir sungai.\n",
        "\n",
        "Sebagai contoh, misal $n=10$, $m=4$. Permainan berlangsung sebagai berikut\n",
        "\n",
        "```\n",
        "Banyak batu untuk bermain: 10\n",
        "Maksimum batu yang boleh diambil: 4\n",
        "\n",
        "Saya mengambil 2 batu. Sisa batu: 8\n",
        "Adik mengambil 3 batu. Sisa batu: 5\n",
        "Saya mengambil 1 batu. Sisa batu: 4\n",
        "Adik mengambil 4 batu. Sisa batu: 0\n",
        "\n",
        "Adik menang.\n",
        "```\n",
        "\n",
        "Eh, salah, kok adik saya yang menang. Coba saya ulangi lagi permainannya.\n",
        "```\n",
        "Banyak batu untuk bermain: 10\n",
        "Maksimum batu yang boleh diambil: 4\n",
        "\n",
        "Saya mengambil 4 batu. Sisa batu: 6\n",
        "Adik mengambil 3 batu. Sisa batu: 3\n",
        "Saya mengambil 3 batu. Sisa batu: 0\n",
        "\n",
        "Saya menang.\n",
        "```\n",
        "\n",
        "Suatu hari, adik saya sedang tidak ingin memainkan permainan ini. Mengingat revolusi industri 4.0 membuat makin banyak pekerjaan digantikan AI, saya memutuskan untuk membuat suatu program Python sederhana untuk menggantikan peran adik saya di permainan ini. Tentunya, program ini tidak perlu mengangkat batu ke kali jikalau ia kalah."
      ]
    },
    {
      "cell_type": "markdown",
      "metadata": {
        "id": "prK4efJWvTiz",
        "colab_type": "text"
      },
      "source": [
        "1. Lengkapilah fungsi `game()` berikut, yang mensimulasikan permainan di atas. Karena sifat permainan ini interaktif, tokoh \"**saya**\" perlu memasukkan input banyak batu yang ia ambil di setiap giliran. Gunakan contoh permainan di atas sebagai tampilan permainan (boleh tidak persis).\n",
        "\n",
        "  Asumsikan program memilih banyak batu yang diambil dengan peluang uniform. Akan tetapi, jika suatu saat batu yang tersisa di giliran program kurang dari $m$,  program  mengambil  semua  batu  di  gilirannya  (untuk memastikan program menang)."
      ]
    },
    {
      "cell_type": "code",
      "metadata": {
        "id": "ndYHxOnbxK8E",
        "colab_type": "code",
        "colab": {}
      },
      "source": [
        "## Tulis module yang anda perlukan di sini, jika ada.\n",
        "\n",
        "\n",
        "def game():\n",
        "  \"Simulasi permainan di pinggir sungai.\"\n",
        "\n",
        "  N = int(input(\"Banyak batu untuk bermain: \"))\n",
        "  M = int(input(\"Maksimum batu yang boleh diambil: \"))\n",
        "  print()\n",
        "\n",
        "  ## Tulis kode anda disini"
      ],
      "execution_count": null,
      "outputs": []
    },
    {
      "cell_type": "markdown",
      "metadata": {
        "id": "7_iYO-0lu4N4",
        "colab_type": "text"
      },
      "source": [
        "2. Setelah lama memainkan permainan yang telah saya buat sebelumnya bersama adik saya, saya menemukan hal berikut: kalau $m+1$ habis membagi $n$, adik saya selalu memenangkan permainan ini - tak peduli bagaimanapun saya melangkah.\n",
        "\n",
        "  Dengan memodifikasi program Python yang dibuat sebelumnya, jika $m+1|n$, lengkapi fungsi `game_v2()` yang mengimitasi strategi kemenangan adik saya. Tentunya, di kasus ini program *tidak* memilih secara acak banyak batu yang diambil.\n",
        "  "
      ]
    },
    {
      "cell_type": "code",
      "metadata": {
        "id": "oE3d5afGuzuk",
        "colab_type": "code",
        "colab": {}
      },
      "source": [
        "def game_v2():\n",
        "  \"Simulasi permainan di pinggir sungai.\"\n",
        "\n",
        "  N = int(input(\"Banyak batu untuk bermain: \"))\n",
        "  M = int(input(\"Maksimum batu yang boleh diambil: \"))\n",
        "  print()\n",
        "  \n",
        "  ## Tulis kode anda disini"
      ],
      "execution_count": null,
      "outputs": []
    },
    {
      "cell_type": "markdown",
      "metadata": {
        "id": "IyLf0kTpcvPI",
        "colab_type": "text"
      },
      "source": [
        "3. Apa yang terjadi jika $m+1$ tak habis membagi $n$?"
      ]
    },
    {
      "cell_type": "markdown",
      "metadata": {
        "id": "fKB2hRODMsQW",
        "colab_type": "text"
      },
      "source": [
        "(Tuliskan argumen Anda di sini untuk soal 3.3)"
      ]
    },
    {
      "cell_type": "markdown",
      "metadata": {
        "id": "4jHUcjKwvBRq",
        "colab_type": "text"
      },
      "source": [
        "### 4. Labirin yang Hidup\n",
        "\n",
        "**Catatan**: Untuk menghayati soal ini, disarankan menyetel lagu berikut selagi mencoba menyelesaikan masalah yang ada. https://www.youtube.com/watch?v=Lr_nyEruW4g\n",
        "\n",
        "Tiba tiba, anda terbangun. Anda berada di sebuah labirin besar!\n",
        "\n",
        "![Oh tidak!](https://res.cloudinary.com/jerrick/image/upload/fl_progressive,q_auto,w_1024/q6hgjkv5yy4ilmgzpa1p.jpg)\n",
        "\n",
        "\n",
        "Setelah menghabiskan beberapa minggu berkelana dan bertahan hidup, anda menemukan beberapa keanehan dengan tempat ini. *Labirin ini hidup*. Dinding-dindingnya muncul dan hilang, bergerak kesana dan kemari. Terkadang dinding labirin ini hampir membunuh diri anda.\n",
        "\n",
        "Bagaimanapun, ada rasa bersyukur bisa tetap hidup sampai saat ini.\n",
        "\n",
        "Suatu hari, setelah mencari makanan, anda menemukan ruangan kecil di pinggir suatu dinding labirin. Penasaran, anda mencoba masuk... pintunya tidak terkunci. Di pojok ruangan, ada komputer menyala, dengan *wallpaper* bertuliskan \"TES-SKMT\". Entah apa artinya itu. Lalu anda melihat ada file Python berikut. \"Sepertinya ini penting\", lalu anda me-*run* program ini. \n",
        "\n"
      ]
    },
    {
      "cell_type": "code",
      "metadata": {
        "id": "3outc2EDQFVt",
        "colab_type": "code",
        "colab": {}
      },
      "source": [
        "## Kode ini akan mendownload file `maze.txt`\n",
        "## di storage session notebook ini. Legenda:\n",
        "##  0 = Dinding\n",
        "##  1 = Pagar\n",
        "##  2 = Jalan\n",
        "\n",
        "import requests\n",
        "\n",
        "\n",
        "data = requests.get(\"https://raw.githubusercontent.com/\"\n",
        "                    \"kekavigi/materi-tutor/master/TES/maze.txt\").text\n",
        "with open(\"maze.txt\", \"w\") as f: f.write(data)\n",
        "del data"
      ],
      "execution_count": null,
      "outputs": []
    },
    {
      "cell_type": "markdown",
      "metadata": {
        "id": "yiST39eqSeUe",
        "colab_type": "text"
      },
      "source": [
        "1. Ada firasat bahwa file `maze.txt` berisi peta labirin ini. Well, tidak ada salahnya mencoba membuktikan firasat. Bisakah anda membuat visualisasi peta dari file `maze.txt`?\n",
        "\n",
        "Oiya, selagi anda mencoba, tolong warnai:\n",
        "1. Dinding dengan warna hitam\n",
        "2. Pagar dengan warna biru, dan\n",
        "3. Jalan dengan warna putih."
      ]
    },
    {
      "cell_type": "code",
      "metadata": {
        "id": "dcBZlD65S8Oh",
        "colab_type": "code",
        "colab": {}
      },
      "source": [
        "## Tulis module yang anda perlukan di sini, jika ada.\n",
        "\n",
        "\n",
        "## Tuliskan jawaban anda disini"
      ],
      "execution_count": null,
      "outputs": []
    },
    {
      "cell_type": "markdown",
      "metadata": {
        "id": "3mNh1VGBT39B",
        "colab_type": "text"
      },
      "source": [
        "2. \"Hah! Apa arti peta ini?!\" Mata anda melolot melihat pagar di tepi labirin di peta, \"Tidak mungkin, tidak ada jalan keluar dari labirin ini\".\n",
        "\n",
        "  Lebih sial, anda tidak dapat memastikan di mana posisi anda di dalam peta (tapi apa gunanya, toh labirin ini *hidup*). Bagaimana pun juga anda ingin keluar dari labirin ini, itu pasti. Ada ide cemerlang terlintas dipikiran:\n",
        "\n",
        "  > \"*Kalau saya berlari bisa ke pagar labirin, saya bisa mencoba memanjatnya dan keluar!*\"\n",
        "\n",
        "  Tapi, apakah semua jalan di labirin saat ini, pasti menuju ke pagar labirin? Buatlah program yang mewarnai semua jalan yang terhubung ke pagar labirin dengan warna kuning.\n",
        "\n"
      ]
    },
    {
      "cell_type": "code",
      "metadata": {
        "id": "QWuUo2cdTN3G",
        "colab_type": "code",
        "colab": {}
      },
      "source": [
        "## Tulis module yang anda perlukan di sini, jika ada.\n",
        "\n",
        "\n",
        "## Tuliskan jawaban anda disini"
      ],
      "execution_count": null,
      "outputs": []
    },
    {
      "cell_type": "markdown",
      "metadata": {
        "id": "YG4-otbKWZ9-",
        "colab_type": "text"
      },
      "source": [
        "### 5. Selamat Datang di Taman Sikomat\n",
        "\n",
        "**Catatan**: Untuk menghayati soal ini, disarankan menyetel lagu berikut: https://www.youtube.com/watch?v=Zk9iH-nunro\n",
        "\n",
        "Banyak hal yang bisa Anda lakukan selagi menunggu kembalinya Anda ke bangku perkuliahan (daring). Salah satu contoh paling efektif adalah tidur sembari membayangkan Anda memecahkan permasalahan TA Anda. Tentunya hal ini memiliki efek samping selepas Anda bangun.\n",
        "\n",
        "Suatu siang (setelah melewatkan kelas jam 7 pagi karena Anda bangun jam 9), Anda mengkaji ulang materi Sikomat demi melancarkan Anda di tes seleksi calon asisten. Anda membaca materi dinamika populasi, dan mengingat kembali persamaan Lotka-Volterra untuk memodelkan dua hewan - sebutlah Pemangsa dan Dimangsa.\n",
        "\n",
        "Anda membaca dalam hati, lalu menemukan beberapa asumsi yang \"tidak realistis\" dari persamaan tersebut. Sebagai seorang ca-matematikawan (atau aktuaris, atau data analis, atau semacamnya), Anda penasaran hal yang akan terjadi jika asumsi tersebut dihilangkan.\n",
        "\n",
        "Untuk soal di bawah, gunakan data berikut:\n",
        "- Populasi pemangsa awal adalah 20, dengan konstanta laju kelahiran dan kematian (dalam model Lotka-Volterra biasa) adalah 0.02 dan 1.02.\n",
        "- Populasi dimangsa awal adalah 200, dengan konstanta laju kelahiran dan kematian (dalam model Lotka-Volterra biasa) adalah 2.04 dan 0.04.\n",
        "\n",
        "0. Buatlah program Python yang memodelkan (dengan memakai persamaan beda) simulasi persamaan Lotka-Volterra terhadap data di atas. Simulasikan pula grafik populasi Pemangsa dan Dimangsa dalam *scatter-plot* dan *deret waktu* \n"
      ]
    },
    {
      "cell_type": "code",
      "metadata": {
        "id": "6aHM0yIcviNj",
        "colab_type": "code",
        "colab": {}
      },
      "source": [
        "#Soal nomor 5.0"
      ],
      "execution_count": null,
      "outputs": []
    },
    {
      "cell_type": "markdown",
      "metadata": {
        "id": "jRfDGIYCv_Ix",
        "colab_type": "text"
      },
      "source": [
        "1. \"Asumsikan fungsi pertumbuhan hewan tanpa predasi mengikuti fungsi eksponensial.\" Sebentar... setelah memikirkan ulang, hal ini jelas tidak logis. Jadi apa yang perlu Anda lakukan?\n",
        "Dengan mengasumsikan fungsi pertumbuhan hewan mengikuti fungsi logistik (atau fungsi pertumbuhan populasi lain yang menurut Anda lebih masuk akal),  berikan sistem persamaan baru yang memodelkan populasi Pemangsa dan Dimangsa. \n",
        "\n",
        "Oh ya, kalian tahu kan kalau Collab mendukung $\\LaTeX$?\n",
        "\n"
      ]
    },
    {
      "cell_type": "markdown",
      "metadata": {
        "id": "oVDHXRUPM5iF",
        "colab_type": "text"
      },
      "source": [
        "(tuliskan jawaban nomor 5.1 di sini)"
      ]
    },
    {
      "cell_type": "markdown",
      "metadata": {
        "id": "AcA0PMZgM5_b",
        "colab_type": "text"
      },
      "source": [
        "\n",
        "2. Perbaiki program Anda di bagian sebelumnya dengan persamaan baru yang Anda buat. Tentunya (atau mungkin sialnya?), konstanta lsju kematian dan perubahan kedua hewan perlu Anda ubah. Jika Anda tidak bisa mendapatkan nilai konstanta yang baru, tidak apa-apa - gunakan saja konstanta laju yang lama. (poin plus akan diberikan jika Anda berhasil mendapatkan konstanta baru.)"
      ]
    },
    {
      "cell_type": "code",
      "metadata": {
        "id": "GPze5v_SzJG7",
        "colab_type": "code",
        "colab": {}
      },
      "source": [
        "#Soal nomor 5.2"
      ],
      "execution_count": null,
      "outputs": []
    },
    {
      "cell_type": "markdown",
      "metadata": {
        "id": "lWCiPR6ulZCB",
        "colab_type": "text"
      },
      "source": [
        "### 6. Bunga Terakhir\n",
        "\n",
        "**Catatan**: Untuk menghayati soal ini, disarankan menyetel lagu berikut: https://www.youtube.com/watch?v=NBf5P9Qd6cs\n",
        "\n",
        "Bagaimana perasaan Anda setelah disajikan beberapa permasalahan di atas? (Tentu saja, ini bukan pertanyaan dari soal di bagian ini.)\n",
        "\n",
        "Sekarang, bayangkan Anda diterima sebagai asisten Sikomat untuk semester ini. Bayangkan Anda membuat soal praktikum untuk dinikmati satu shift Anda.\n",
        "\n",
        "Dengan menggunakan silabus Sikomat tahun lalu, buatlah setidaknya satu soal (lengkap dengan narasi soal dan jawaban) praktikum Sikomat. Anda bebas memilih bagian silabus yang akan Anda pakai, tapi lampirkan juga bagian yang Anda pakai. Oh ya, kreativitas sangat dicari di soal ini."
      ]
    },
    {
      "cell_type": "code",
      "metadata": {
        "id": "ghIKoiMHw6CO",
        "colab_type": "code",
        "colab": {}
      },
      "source": [
        "#Soal nomor 6"
      ],
      "execution_count": null,
      "outputs": []
    }
  ]
}